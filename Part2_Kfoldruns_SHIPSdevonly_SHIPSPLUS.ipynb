{
 "cells": [
  {
   "cell_type": "code",
   "execution_count": 2,
   "id": "9b1323ec-5c0d-408b-bfd3-c85fa57e060b",
   "metadata": {},
   "outputs": [
    {
     "name": "stderr",
     "output_type": "stream",
     "text": [
      "/home/upendra/miniconda3/envs/ships/lib/python3.9/site-packages/scipy/__init__.py:155: UserWarning: A NumPy version >=1.18.5 and <1.26.0 is required for this version of SciPy (detected version 1.26.4\n",
      "  warnings.warn(f\"A NumPy version >={np_minversion} and <{np_maxversion}\"\n"
     ]
    }
   ],
   "source": [
    "from tqdm.auto import tqdm \n",
    "import pandas as pd\n",
    "import numpy as np\n",
    "import xarray as xr\n",
    "import netCDF4 as nf\n",
    "from netCDF4 import Dataset\n",
    "%matplotlib inline\n",
    "import glob\n",
    "import seaborn as sns\n",
    "import matplotlib.pyplot as plt\n",
    "import ast,gc,pickle\n",
    "from copy import deepcopy\n",
    "\n",
    "# Custom packages\n",
    "import read_config\n",
    "from util.data_process import read_vars, proc_dataset, miss\n",
    "from util.models import performance_scores,train_baseline,causal_settings,train_PC1"
   ]
  },
  {
   "cell_type": "code",
   "execution_count": 3,
   "id": "52fc3951-d6e2-4294-9191-4f5d044a7533",
   "metadata": {},
   "outputs": [],
   "source": [
    "import pickle\n",
    "import numpy as np\n",
    "\n",
    "\n",
    "# A function to save models with pickle\n",
    "def save_models(models, filename):\n",
    "    with open(filename,'wb') as f:\n",
    "        pickle.dump(models, f)\n",
    "\n",
    "\n",
    "def read_pickle(filepath=None):\n",
    "    with open(filepath, \"rb\") as f:\n",
    "        x = pickle.load(f)\n",
    "    return x\n",
    "\n",
    "\n",
    "def flatten(xss):\n",
    "    return [x for xs in xss for x in xs]"
   ]
  },
  {
   "cell_type": "code",
   "execution_count": 4,
   "id": "7ba360ed-8ae4-4981-953f-24b04ded2d57",
   "metadata": {},
   "outputs": [],
   "source": [
    "import pickle\n",
    "import gc\n",
    "from tqdm import tqdm\n",
    "import numpy as np\n",
    "import os"
   ]
  },
  {
   "cell_type": "code",
   "execution_count": 5,
   "id": "01913bbd-3794-4dbe-9aac-19564ad3162a",
   "metadata": {
    "tags": []
   },
   "outputs": [],
   "source": [
    "# Read configuration file\n",
    "config_set = read_config.read_config()\n",
    "#config_set = read_config.read_config('./config.ini')\n",
    "# Define Target\n",
    "if int(config_set['target_lag'])==20:\n",
    "    target='delv120'\n",
    "if int(config_set['target_lag'])==16:\n",
    "    target='delv96'\n",
    "if int(config_set['target_lag'])==12:\n",
    "    target='delv72'\n",
    "if int(config_set['target_lag'])==8:\n",
    "    target='delv48'\n",
    "if int(config_set['target_lag'])==4:\n",
    "    target='delv24'\n",
    "#seeds = np.arange(100,131,1)"
   ]
  },
  {
   "cell_type": "code",
   "execution_count": 6,
   "id": "369e0ff8-7d64-4559-a685-6205aa724f15",
   "metadata": {},
   "outputs": [
    {
     "data": {
      "text/plain": [
       "'delv24'"
      ]
     },
     "execution_count": 6,
     "metadata": {},
     "output_type": "execute_result"
    }
   ],
   "source": [
    "target"
   ]
  },
  {
   "cell_type": "markdown",
   "id": "7cebad58-a15d-4857-84f4-c5873fda3a3f",
   "metadata": {},
   "source": [
    "#### Loops through the 7 splits of SHIPSPLUS data (with causal predictors) and runs PC_stable in Tigramite for given pc_alpha values, creates results pkl inside results/4/shipsnew/"
   ]
  },
  {
   "cell_type": "code",
   "execution_count": 19,
   "id": "cbadb236-a8b9-42e5-8cf7-8771cd992a82",
   "metadata": {},
   "outputs": [
    {
     "name": "stderr",
     "output_type": "stream",
     "text": [
      "\n",
      "\n",
      "\n",
      "\n",
      "\n",
      "\n",
      "\n",
      "00%|███████████████████████████████████████████| 24/24 [00:39<00:00,  1.63s/it]"
     ]
    }
   ],
   "source": [
    "for split in range(7):  # Assuming 0 through 6\n",
    "    # Load the current split\n",
    "    split_path = f'proc/pickle/delv24/dict_split{split}.pkl'\n",
    "    with open(split_path, 'rb') as f:\n",
    "        TIDATA = pickle.load(f)\n",
    "\n",
    "    var_names = TIDATA['Xnorml']['train'][list(TIDATA['Xnorml']['train'].keys())[0]].columns\n",
    "\n",
    "    onlyships_lag = causal_settings.link_onlyships(\n",
    "        numvar=TIDATA['aligned_train'][list(TIDATA['aligned_train'].keys())[0]].shape[1],\n",
    "        lag=4,\n",
    "        target_ind=[0],\n",
    "    )\n",
    "\n",
    "    results = []\n",
    "    for pc_alpha in tqdm([0.0001, 0.00015 ,0.001,0.0015,0.01,0.02,0.03,0.04,0.05,0.06,0.07,0.08,0.09,0.1,\n",
    "                      0.15,0.2,0.25,0.3,0.35,0.4,0.45,0.5,0.55,0.6]):\n",
    "        Xnorml_c = {\n",
    "            'train': {ind: np.asarray(TIDATA['Xnorml']['train'][key].replace(np.nan, -999.0))\n",
    "                      for ind, key in enumerate(TIDATA['Xnorml']['train'].keys())},\n",
    "            'valid': {ind: np.asarray(TIDATA['Xnorml']['valid'][key].replace(np.nan, -999.0))\n",
    "                      for ind, key in enumerate(TIDATA['Xnorml']['valid'].keys())},\n",
    "            'test': {ind: np.asarray(TIDATA['Xnorml']['test'][key].replace(np.nan, -999.0))\n",
    "                     for ind, key in enumerate(TIDATA['Xnorml']['test'].keys())}\n",
    "        }\n",
    "\n",
    "        result = train_PC1.Pipeline(\n",
    "            Xnorml_c['train'],\n",
    "            pc_alpha,\n",
    "            pc_type='run_pcstable',\n",
    "            tau_min0=int(config_set['tau_min']),\n",
    "            tau_max0=int(config_set['tau_max']),\n",
    "            var_name=var_names,\n",
    "            link_assumptions=onlyships_lag\n",
    "        ).run_tigramite()\n",
    "\n",
    "        del Xnorml_c\n",
    "        gc.collect()\n",
    "        results.append(result)\n",
    "\n",
    "    savetos = {\n",
    "        'dataframes': TIDATA['Xnorml'],\n",
    "        'PC1_results': results,\n",
    "        'var_names': var_names\n",
    "    }\n",
    "\n",
    "    output_dir = f'results/{int(config_set[\"target_lag\"])}/shipsnew/'\n",
    "    output_path = f'{output_dir}results_fold_{split}.pkl'\n",
    "\n",
    "    os.makedirs(output_dir, exist_ok=True)\n",
    "    with open(output_path, 'wb') as handler:\n",
    "        pickle.dump(savetos, handler)"
   ]
  },
  {
   "cell_type": "markdown",
   "id": "38201594-1584-43aa-bd66-e8f9ea4295cf",
   "metadata": {},
   "source": [
    "#### Loops through the 7 splits of SHIPS developmental data and runs PC_stable in Tigramite for given pc_alpha values, creates results pkl inside results/4/shipsold/"
   ]
  },
  {
   "cell_type": "code",
   "execution_count": 7,
   "id": "efba79f4-3591-459b-91f2-319f9219e120",
   "metadata": {},
   "outputs": [
    {
     "name": "stderr",
     "output_type": "stream",
     "text": [
      "\n",
      "\n",
      "\n",
      "\n",
      "\n",
      "\n",
      "\n",
      "00%|███████████████████████████████████████████| 24/24 [00:20<00:00,  1.18it/s]"
     ]
    }
   ],
   "source": [
    "for split in range(7):  # Assuming 0 through 6\n",
    "    # Load the current split\n",
    "    split_path = f'proc/pickle/delv24/olddict_split{split}.pkl'\n",
    "    with open(split_path, 'rb') as f:\n",
    "        TIDATA = pickle.load(f)\n",
    "\n",
    "    var_names = TIDATA['Xnorml']['train'][list(TIDATA['Xnorml']['train'].keys())[0]].columns\n",
    "\n",
    "    onlyships_lag = causal_settings.link_onlyships(\n",
    "        numvar=TIDATA['aligned_train'][list(TIDATA['aligned_train'].keys())[0]].shape[1],\n",
    "        lag=4,\n",
    "        target_ind=[0],\n",
    "    )\n",
    "\n",
    "    results = []\n",
    "    for pc_alpha in tqdm([0.0001, 0.00015, 0.001, 0.0015, 0.01, 0.02, 0.03, 0.04, 0.05, 0.06, 0.07, 0.08,\n",
    "                         0.09, 0.1, 0.15, 0.2, 0.25, 0.3, 0.35, 0.4, 0.45, 0.5, 0.55, 0.6]):\n",
    "        Xnorml_c = {\n",
    "            'train': {ind: np.asarray(TIDATA['Xnorml']['train'][key].replace(np.nan, -999.0))\n",
    "                      for ind, key in enumerate(TIDATA['Xnorml']['train'].keys())},\n",
    "            'valid': {ind: np.asarray(TIDATA['Xnorml']['valid'][key].replace(np.nan, -999.0))\n",
    "                      for ind, key in enumerate(TIDATA['Xnorml']['valid'].keys())},\n",
    "            'test': {ind: np.asarray(TIDATA['Xnorml']['test'][key].replace(np.nan, -999.0))\n",
    "                     for ind, key in enumerate(TIDATA['Xnorml']['test'].keys())}\n",
    "        }\n",
    "\n",
    "        result = train_PC1.Pipeline(\n",
    "            Xnorml_c['train'],\n",
    "            pc_alpha,\n",
    "            pc_type='run_pcstable',\n",
    "            tau_min0=int(config_set['tau_min']),\n",
    "            tau_max0=int(config_set['tau_max']),\n",
    "            var_name=var_names,\n",
    "            link_assumptions=onlyships_lag\n",
    "        ).run_tigramite()\n",
    "\n",
    "        del Xnorml_c\n",
    "        gc.collect()\n",
    "        results.append(result)\n",
    "\n",
    "    savetos = {\n",
    "        'dataframes': TIDATA['Xnorml'],\n",
    "        'PC1_results': results,\n",
    "        'var_names': var_names\n",
    "    }\n",
    "\n",
    "    output_dir = f'results/{int(config_set[\"target_lag\"])}/shipsold/'\n",
    "    output_path = f'{output_dir}results_fold_{split}.pkl'\n",
    "\n",
    "    os.makedirs(output_dir, exist_ok=True)\n",
    "    with open(output_path, 'wb') as handler:\n",
    "        pickle.dump(savetos, handler)"
   ]
  },
  {
   "cell_type": "code",
   "execution_count": 8,
   "id": "18b8bcd9-0844-4a74-bdfd-e4fa397c041b",
   "metadata": {},
   "outputs": [
    {
     "data": {
      "text/plain": [
       "dict_keys(['datastorer', 'X_nonorml', 'y', 'size', 'var_names', 'Xnorml', 'aligned_train'])"
      ]
     },
     "execution_count": 8,
     "metadata": {},
     "output_type": "execute_result"
    }
   ],
   "source": [
    "TIDATA.keys()"
   ]
  },
  {
   "cell_type": "code",
   "execution_count": 9,
   "id": "5e1d552f-d1d5-4fa1-a891-fc472d474ae7",
   "metadata": {},
   "outputs": [],
   "source": [
    "var_names = performance_scores.scores_seeds(seed=0,target=target,lag=int(config_set['target_lag']),exp='shipsold').read_stored()['var_names']"
   ]
  },
  {
   "cell_type": "code",
   "execution_count": 10,
   "id": "2bfb94b0-cb8b-4ca2-9cc8-dd39bec48979",
   "metadata": {
    "tags": []
   },
   "outputs": [
    {
     "data": {
      "text/plain": [
       "Index(['DELV24', 'T200', 'T250', 'LAT', 'CSST', 'PSLV', 'Z850', 'D200', 'EPOS',\n",
       "       'SHDC', 'RHMD', 'TWAC', 'G200', 'TADV', 'SHGC', 'POT', 'POT2', 'LHRD',\n",
       "       'VSHR', 'PER', 'VPER', 'pc20'],\n",
       "      dtype='object')"
      ]
     },
     "execution_count": 10,
     "metadata": {},
     "output_type": "execute_result"
    }
   ],
   "source": [
    "var_names"
   ]
  },
  {
   "cell_type": "code",
   "execution_count": 12,
   "id": "dcb271da-be14-4fac-8fb7-835a5c0881b1",
   "metadata": {},
   "outputs": [],
   "source": [
    "var_names = performance_scores.scores_seeds(seed=0,target=target,lag=int(config_set['target_lag']),exp='shipsnew').read_stored()['var_names']"
   ]
  },
  {
   "cell_type": "code",
   "execution_count": 13,
   "id": "429efd7d-86d1-4324-90a0-142e1548b514",
   "metadata": {},
   "outputs": [
    {
     "data": {
      "text/plain": [
       "Index(['DELV24', 'T200', 'T250', 'LAT', 'CSST', 'PSLV', 'Z850', 'D200', 'EPOS',\n",
       "       'SHDC', 'RHMD', 'TWAC', 'G200', 'TADV', 'SHGC', 'POT', 'POT2', 'LHRD',\n",
       "       'VSHR', 'PER', 'VPER', 'R001', 'R000', 'SHMD', 'PVOR', 'SHL1', 'SHL0',\n",
       "       'pc20'],\n",
       "      dtype='object')"
      ]
     },
     "execution_count": 13,
     "metadata": {},
     "output_type": "execute_result"
    }
   ],
   "source": [
    "var_names"
   ]
  }
 ],
 "metadata": {
  "kernelspec": {
   "display_name": "Python 3 (ipykernel)",
   "language": "python",
   "name": "python3"
  },
  "language_info": {
   "codemirror_mode": {
    "name": "ipython",
    "version": 3
   },
   "file_extension": ".py",
   "mimetype": "text/x-python",
   "name": "python",
   "nbconvert_exporter": "python",
   "pygments_lexer": "ipython3",
   "version": "3.9.15"
  }
 },
 "nbformat": 4,
 "nbformat_minor": 5
}
