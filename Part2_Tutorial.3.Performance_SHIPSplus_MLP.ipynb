{
 "cells": [
  {
   "cell_type": "code",
   "execution_count": 12,
   "id": "3a574145-b906-4f60-bf64-78c37bea1bc7",
   "metadata": {
    "tags": []
   },
   "outputs": [],
   "source": [
    "from tqdm.auto import tqdm\n",
    "from tqdm import tqdm\n",
    "import pandas as pd\n",
    "import numpy as np\n",
    "import xarray as xr\n",
    "import netCDF4 as nf\n",
    "from netCDF4 import Dataset\n",
    "%matplotlib inline\n",
    "import glob\n",
    "import seaborn as sns\n",
    "import matplotlib.pyplot as plt\n",
    "import ast,gc,pickle\n",
    "from copy import deepcopy\n",
    "import os\n",
    "\n",
    "# Custom packages\n",
    "import read_config\n",
    "from util.data_process import read_vars, proc_dataset, miss\n",
    "from util.models import performance_scores,train_baseline,causal_settings,train_PC1"
   ]
  },
  {
   "cell_type": "code",
   "execution_count": 3,
   "id": "01913bbd-3794-4dbe-9aac-19564ad3162a",
   "metadata": {
    "tags": []
   },
   "outputs": [],
   "source": [
    "# Read configuration file\n",
    "config_set = read_config.read_config()\n",
    "# Define Target\n",
    "if int(config_set['target_lag'])==20:\n",
    "    target='DELV120'\n",
    "if int(config_set['target_lag'])==16:\n",
    "    target='DELV96'\n",
    "if int(config_set['target_lag'])==12:\n",
    "    target='DELV72'\n",
    "if int(config_set['target_lag'])==8:\n",
    "    target='DELV48'\n",
    "if int(config_set['target_lag'])==4:\n",
    "    target='DELV24'\n",
    "seeds = np.arange(0,7,1)#np.arange(100,131,1)"
   ]
  },
  {
   "cell_type": "code",
   "execution_count": 5,
   "id": "b55c44b9-9d65-4631-9868-4d054e35fb24",
   "metadata": {},
   "outputs": [],
   "source": [
    "seeds = np.arange(0,7,1)\n",
    "var_names = performance_scores.scores_seeds(seed=0,target=target,lag=int(config_set['target_lag']),exp='shipsnew').read_stored()['var_names']"
   ]
  },
  {
   "cell_type": "code",
   "execution_count": 6,
   "id": "becf8db9-b1a6-4991-b122-d63b41c9d571",
   "metadata": {},
   "outputs": [
    {
     "data": {
      "text/plain": [
       "'DELV24'"
      ]
     },
     "execution_count": 6,
     "metadata": {},
     "output_type": "execute_result"
    }
   ],
   "source": [
    "target"
   ]
  },
  {
   "cell_type": "code",
   "execution_count": 7,
   "id": "8348bdb5-41c2-409c-95cc-808e19e472b4",
   "metadata": {},
   "outputs": [],
   "source": [
    "def pearson_corr(measureds, estimations):\n",
    "    # Calculate the Pearson correlation coefficient\n",
    "    corr = pearsonr(measureds, estimations)\n",
    "    return corr.statistic"
   ]
  },
  {
   "cell_type": "code",
   "execution_count": 8,
   "id": "0f75e3d1-c2a3-4a38-aa4d-a0a36aaceb1a",
   "metadata": {},
   "outputs": [
    {
     "data": {
      "text/plain": [
       "['DELV24',\n",
       " 'T200',\n",
       " 'T250',\n",
       " 'LAT',\n",
       " 'CSST',\n",
       " 'PSLV',\n",
       " 'Z850',\n",
       " 'D200',\n",
       " 'EPOS',\n",
       " 'SHDC',\n",
       " 'RHMD',\n",
       " 'TWAC',\n",
       " 'G200',\n",
       " 'TADV',\n",
       " 'SHGC',\n",
       " 'POT',\n",
       " 'POT2',\n",
       " 'LHRD',\n",
       " 'VSHR',\n",
       " 'PER',\n",
       " 'VPER',\n",
       " 'R001',\n",
       " 'R000',\n",
       " 'SHMD',\n",
       " 'PVOR',\n",
       " 'SHL1',\n",
       " 'SHL0',\n",
       " 'pc20']"
      ]
     },
     "execution_count": 8,
     "metadata": {},
     "output_type": "execute_result"
    }
   ],
   "source": [
    "list(var_names)"
   ]
  },
  {
   "cell_type": "markdown",
   "id": "743a3e1e-a190-4bda-b823-5e1092cd0ba0",
   "metadata": {},
   "source": [
    "# No causal selection"
   ]
  },
  {
   "cell_type": "code",
   "execution_count": 13,
   "id": "2b3228da-3b81-4dc1-a25a-33e5972e05e2",
   "metadata": {},
   "outputs": [
    {
     "name": "stderr",
     "output_type": "stream",
     "text": [
      "\n",
      "00%|█████████████████████████████████████████████| 7/7 [00:05<00:00,  1.37it/s]"
     ]
    }
   ],
   "source": [
    "score_nocausal = []\n",
    "for seed in tqdm(seeds):\n",
    "    nocausal_results = performance_scores.scores_seeds(seed=seed,target=target,lag=int(config_set['target_lag']),exp='shipsnew').run_score_noFS()\n",
    "    score_nocausal.append(nocausal_results)\n",
    "    del nocausal_results\n",
    "    gc.collect()\n",
    "\n",
    "pcc_train_noFS = [score_nocausal[i]['scoreboard']['train']['r2_from_pcc'] for i in range(len(score_nocausal))]\n",
    "pcc_valid_noFS = [score_nocausal[i]['scoreboard']['valid']['r2_from_pcc'] for i in range(len(score_nocausal))]\n",
    "pcc_test_noFS = [score_nocausal[i]['scoreboard']['test']['r2_from_pcc'] for i in range(len(score_nocausal))]\n",
    "\n",
    "r2_train_noFS = [score_nocausal[i]['scoreboard']['train']['r2'] for i in range(len(score_nocausal))]\n",
    "r2_valid_noFS = [score_nocausal[i]['scoreboard']['valid']['r2'] for i in range(len(score_nocausal))]\n",
    "r2_test_noFS = [score_nocausal[i]['scoreboard']['test']['r2'] for i in range(len(score_nocausal))]"
   ]
  },
  {
   "cell_type": "markdown",
   "id": "21e8accf-444b-427c-baab-d0bad15d287b",
   "metadata": {},
   "source": [
    "#### results"
   ]
  },
  {
   "cell_type": "code",
   "execution_count": 14,
   "id": "f5e3d05d-9df4-41eb-8168-6002c5924a71",
   "metadata": {},
   "outputs": [
    {
     "data": {
      "text/plain": [
       "(0.21136690761054466, 0.1850642982594296, 0.19520693754883045)"
      ]
     },
     "execution_count": 14,
     "metadata": {},
     "output_type": "execute_result"
    }
   ],
   "source": [
    "np.asarray(r2_train_noFS).max(),np.asarray(r2_valid_noFS).max(),np.asarray(r2_test_noFS).max()"
   ]
  },
  {
   "cell_type": "code",
   "execution_count": 15,
   "id": "7959bb41-f9ef-4ba3-bb0b-2571abadbea3",
   "metadata": {},
   "outputs": [
    {
     "data": {
      "text/plain": [
       "(0.1943937534986886, 0.07587990432825698, 0.17972163441125477)"
      ]
     },
     "execution_count": 15,
     "metadata": {},
     "output_type": "execute_result"
    }
   ],
   "source": [
    "np.asarray(r2_train_noFS).min(),np.asarray(r2_valid_noFS).min(),np.asarray(r2_test_noFS).min()"
   ]
  },
  {
   "cell_type": "code",
   "execution_count": 16,
   "id": "cd45b38e-3a92-4153-9a2d-026f3e3b05bc",
   "metadata": {},
   "outputs": [
    {
     "data": {
      "text/plain": [
       "(0.19827971147344434, 0.15504233041008253, 0.18867185262816427)"
      ]
     },
     "execution_count": 16,
     "metadata": {},
     "output_type": "execute_result"
    }
   ],
   "source": [
    "np.asarray(r2_train_noFS).mean(),np.asarray(r2_valid_noFS).mean(),np.asarray(r2_test_noFS).mean()"
   ]
  },
  {
   "cell_type": "code",
   "execution_count": 17,
   "id": "30d80016-13e2-4bfa-922a-1bc1f7ad4640",
   "metadata": {},
   "outputs": [
    {
     "data": {
      "text/plain": [
       "(0.2113669076105447, 0.1889164329958083, 0.19690572281496438)"
      ]
     },
     "execution_count": 17,
     "metadata": {},
     "output_type": "execute_result"
    }
   ],
   "source": [
    "np.asarray(pcc_train_noFS).max(),np.asarray(pcc_valid_noFS).max(),np.asarray(pcc_test_noFS).max()"
   ]
  },
  {
   "cell_type": "code",
   "execution_count": 18,
   "id": "3e10d451-82a1-49d6-a7b8-ceeb6b59bb0d",
   "metadata": {},
   "outputs": [
    {
     "data": {
      "text/plain": [
       "(0.19439375349868854, 0.08958064658182296, 0.18071299725877393)"
      ]
     },
     "execution_count": 18,
     "metadata": {},
     "output_type": "execute_result"
    }
   ],
   "source": [
    "np.asarray(pcc_train_noFS).min(),np.asarray(pcc_valid_noFS).min(),np.asarray(pcc_test_noFS).min()"
   ]
  },
  {
   "cell_type": "code",
   "execution_count": 19,
   "id": "38cdd5b2-a96b-4221-9618-eec924a937f1",
   "metadata": {},
   "outputs": [
    {
     "data": {
      "text/plain": [
       "(0.19827971147344434, 0.16401324388879446, 0.18998405157810255)"
      ]
     },
     "execution_count": 19,
     "metadata": {},
     "output_type": "execute_result"
    }
   ],
   "source": [
    "np.asarray(pcc_train_noFS).mean(),np.asarray(pcc_valid_noFS).mean(),np.asarray(pcc_test_noFS).mean()"
   ]
  },
  {
   "cell_type": "markdown",
   "id": "b41c3745-e315-4053-a0c7-79263e25a02b",
   "metadata": {},
   "source": [
    "# With causal"
   ]
  },
  {
   "cell_type": "code",
   "execution_count": 20,
   "id": "cb0f05a9-c21d-47d7-a8ce-b9467469d3bf",
   "metadata": {},
   "outputs": [
    {
     "data": {
      "text/plain": [
       "<module 'util.models.performance_scores' from '/home/upendra/test/2025_CausalSHIPS/util/models/performance_scores.py'>"
      ]
     },
     "execution_count": 20,
     "metadata": {},
     "output_type": "execute_result"
    }
   ],
   "source": [
    "import importlib\n",
    "importlib.reload(performance_scores)"
   ]
  },
  {
   "cell_type": "code",
   "execution_count": 22,
   "id": "1bed94ae-1b49-4228-a5b6-ebc75ccbaf73",
   "metadata": {
    "scrolled": true
   },
   "outputs": [
    {
     "name": "stderr",
     "output_type": "stream",
     "text": [
      "\n",
      "00%|█████████████████████████████████████████████| 7/7 [01:43<00:00, 14.75s/it]"
     ]
    }
   ],
   "source": [
    "score_causal = []\n",
    "for seed in tqdm(seeds):\n",
    "    causal_results = performance_scores.scores_seeds(seed=seed,target=target,lag=int(config_set['target_lag']),exp='shipsnew').run_score_causalFS()\n",
    "    score_causal.append(causal_results)\n",
    "    del causal_results\n",
    "    gc.collect()\n",
    "\n",
    "r2_train_causalFS, r2_valid_causalFS, r2_test_causalFS, shapez_causalFS = [],[],[],[]\n",
    "for i in range(len(score_causal)):\n",
    "    r2_train_causalFS.append([(score_causal[i][j]['scoreboard']['train']['r2']) for j in range(len(score_causal[i]))])\n",
    "    r2_valid_causalFS.append([(score_causal[i][j]['scoreboard']['valid']['r2']) for j in range(len(score_causal[i]))])\n",
    "    r2_test_causalFS.append([(score_causal[i][j]['scoreboard']['test']['r2']) for j in range(len(score_causal[i]))])\n",
    "    shapez_causalFS.append([(score_causal[i][j]['X']['test'].shape[1]) for j in range(len(score_causal[i]))])\n",
    "\n",
    "pcc_train_causalFS, pcc_valid_causalFS, pcc_test_causalFS, shapez_causalFS = [],[],[],[]\n",
    "for i in range(len(score_causal)):\n",
    "    pcc_train_causalFS.append([(score_causal[i][j]['scoreboard']['train']['r2_from_pcc']) for j in range(len(score_causal[i]))])\n",
    "    pcc_valid_causalFS.append([(score_causal[i][j]['scoreboard']['valid']['r2_from_pcc']) for j in range(len(score_causal[i]))])\n",
    "    pcc_test_causalFS.append([(score_causal[i][j]['scoreboard']['test']['r2_from_pcc']) for j in range(len(score_causal[i]))])\n",
    "    shapez_causalFS.append([(score_causal[i][j]['X']['test'].shape[1]) for j in range(len(score_causal[i]))])"
   ]
  },
  {
   "cell_type": "code",
   "execution_count": 23,
   "id": "6adefc6d-1457-4cad-be67-8f95e8b67c75",
   "metadata": {},
   "outputs": [
    {
     "name": "stdout",
     "output_type": "stream",
     "text": [
      "3 14\n"
     ]
    }
   ],
   "source": [
    "bestfold_causal = np.asarray([np.mean(obj) for obj in pcc_valid_causalFS]).argmax()\n",
    "bestmodel_causal = [np.argmax(obj) for obj in pcc_valid_causalFS][bestfold_causal]\n",
    "print(bestfold_causal,bestmodel_causal)"
   ]
  },
  {
   "cell_type": "markdown",
   "id": "95a84276-4fc8-4176-ad1f-af9f077f5acc",
   "metadata": {},
   "source": [
    "### Explore 24hr\n",
    "The SHIPS-enhanced models were better than the SHIPS-original version for most cases, so now we take a look at whether the additional variables are chosen, i.e., whether or not the causal models are better because of the new variables."
   ]
  },
  {
   "cell_type": "code",
   "execution_count": 28,
   "id": "87714098-1585-440a-b6eb-8f98d0bc8eaa",
   "metadata": {},
   "outputs": [
    {
     "data": {
      "text/plain": [
       "['POT', 'PSLV', 'SHL1', 'G200', 'T200', 'SHMD', 'PVOR']"
      ]
     },
     "execution_count": 28,
     "metadata": {},
     "output_type": "execute_result"
    }
   ],
   "source": [
    "bestfold = np.asarray([np.mean(obj) for obj in pcc_valid_causalFS]).argmax()\n",
    "bestmodel = [np.argmax(obj) for obj in pcc_valid_causalFS][bestfold]\n",
    "resultsz = miss.read_pickle('results/'+str(int(config_set['target_lag']))+'/'+'shipsnew'+'/'+'results_fold_'+str(int(seeds[bestfold]))+'.pkl')['PC1_results']\n",
    "[var_names[ind] for ind in [obj[0] for obj in resultsz[bestmodel][0]]]"
   ]
  },
  {
   "cell_type": "markdown",
   "id": "1165ed50-9322-4db0-8f29-df492da84516",
   "metadata": {},
   "source": [
    "##### results"
   ]
  },
  {
   "cell_type": "code",
   "execution_count": 29,
   "id": "a579703b-94c2-4b00-b632-fd549a49c12b",
   "metadata": {},
   "outputs": [
    {
     "data": {
      "text/plain": [
       "(0.20775012710254837, 0.2114984112249113, 0.18881848862723294)"
      ]
     },
     "execution_count": 29,
     "metadata": {},
     "output_type": "execute_result"
    }
   ],
   "source": [
    "np.asarray(miss.flatten(r2_train_causalFS)).max(),np.asarray(miss.flatten(r2_valid_causalFS)).max(),np.asarray(miss.flatten(r2_test_causalFS)).max()"
   ]
  },
  {
   "cell_type": "code",
   "execution_count": 30,
   "id": "aa240fb7-5f5a-4725-82e9-cc95bf152396",
   "metadata": {},
   "outputs": [
    {
     "data": {
      "text/plain": [
       "(0.15917012991688195, 0.07232879746524168, 0.1310653647900759)"
      ]
     },
     "execution_count": 30,
     "metadata": {},
     "output_type": "execute_result"
    }
   ],
   "source": [
    "np.asarray(miss.flatten(r2_train_causalFS)).min(),np.asarray(miss.flatten(r2_valid_causalFS)).min(),np.asarray(miss.flatten(r2_test_causalFS)).min()"
   ]
  },
  {
   "cell_type": "code",
   "execution_count": 31,
   "id": "d5da07cc-0e14-48c1-80cd-efd90834d12b",
   "metadata": {
    "scrolled": true
   },
   "outputs": [
    {
     "data": {
      "text/plain": [
       "(0.1838092234857338, 0.16572339057578456, 0.16906050614747964)"
      ]
     },
     "execution_count": 31,
     "metadata": {},
     "output_type": "execute_result"
    }
   ],
   "source": [
    "np.asarray(miss.flatten(r2_train_causalFS)).mean(),np.asarray(miss.flatten(r2_valid_causalFS)).mean(),np.asarray(miss.flatten(r2_test_causalFS)).mean()"
   ]
  },
  {
   "cell_type": "code",
   "execution_count": 32,
   "id": "fc186554-9749-46c1-b78e-4e0e323f3b2f",
   "metadata": {},
   "outputs": [
    {
     "data": {
      "text/plain": [
       "(0.20775012710254848, 0.21643980056631867, 0.19002044313140717)"
      ]
     },
     "execution_count": 32,
     "metadata": {},
     "output_type": "execute_result"
    }
   ],
   "source": [
    "np.asarray(miss.flatten(pcc_train_causalFS)).max(),np.asarray(miss.flatten(pcc_valid_causalFS)).max(),np.asarray(miss.flatten(pcc_test_causalFS)).max()"
   ]
  },
  {
   "cell_type": "code",
   "execution_count": 33,
   "id": "9aff9620-11e8-409b-8d20-a39c2407aadd",
   "metadata": {},
   "outputs": [
    {
     "data": {
      "text/plain": [
       "(0.159170129916882, 0.08532277640276034, 0.133693060448356)"
      ]
     },
     "execution_count": 33,
     "metadata": {},
     "output_type": "execute_result"
    }
   ],
   "source": [
    "np.asarray(miss.flatten(pcc_train_causalFS)).min(),np.asarray(miss.flatten(pcc_valid_causalFS)).min(),np.asarray(miss.flatten(pcc_test_causalFS)).min()"
   ]
  },
  {
   "cell_type": "code",
   "execution_count": 34,
   "id": "a3f49363-8b02-410b-b24d-85e4e1953143",
   "metadata": {},
   "outputs": [
    {
     "data": {
      "text/plain": [
       "(0.18380922348573384, 0.17190739021483634, 0.1702840860678214)"
      ]
     },
     "execution_count": 34,
     "metadata": {},
     "output_type": "execute_result"
    }
   ],
   "source": [
    "np.asarray(miss.flatten(pcc_train_causalFS)).mean(),np.asarray(miss.flatten(pcc_valid_causalFS)).mean(),np.asarray(miss.flatten(pcc_test_causalFS)).mean()"
   ]
  },
  {
   "cell_type": "code",
   "execution_count": 35,
   "id": "d6650238-2859-4ded-a84a-065f08308b50",
   "metadata": {
    "scrolled": true
   },
   "outputs": [
    {
     "data": {
      "image/png": "[encoded data removed]",
      "text/plain": [
       "<Figure size 800x400 with 1 Axes>"
      ]
     },
     "metadata": {},
     "output_type": "display_data"
    }
   ],
   "source": [
    "fig,ax = plt.subplots(1,1,figsize=(8,4))\n",
    "#sns.kdeplot(np.asarray(miss.flatten(r2_train_causalFS)),ls='--',c='k',label='Causal: Train',ax=ax)\n",
    "#sns.kdeplot((r2_train_noFS),c='k',ls='-',label='Baseline: Train',ax=ax)\n",
    "sns.kdeplot(np.asarray(miss.flatten(pcc_valid_causalFS)),ls='--',c='b',label='Causal: Validation',ax=ax,cumulative=True)\n",
    "sns.kdeplot((pcc_valid_noFS),c='b',ls='-',label='Baseline: Validation',ax=ax,cumulative=True)\n",
    "#sns.kdeplot(np.asarray(miss.flatten(r2_test_causalFS)),ls='--',c='r',label='Causal: Test',ax=ax,cumulative=True)\n",
    "#sns.kdeplot((r2_test_noFS),c='r',ls='-',label='Baseline: Test',ax=ax,cumulative=True)\n",
    "plt.legend(loc=2)\n",
    "plt.xlabel('PCC')\n",
    "#plt.xlim(-6,6)\n",
    "plt.savefig(f'./figures/SHIPSplus_kfold_pcc_{target}.png',dpi=600)\n",
    "plt.show()"
   ]
  },
  {
   "cell_type": "markdown",
   "id": "0621f536-6342-4747-b99b-223d072b0645",
   "metadata": {},
   "source": [
    "## With Correlation"
   ]
  },
  {
   "cell_type": "code",
   "execution_count": 36,
   "id": "587adc2a-dc24-4c81-bb37-3f9042ae7773",
   "metadata": {},
   "outputs": [
    {
     "name": "stderr",
     "output_type": "stream",
     "text": [
      "\n",
      "00%|█████████████████████████████████████████████| 7/7 [00:54<00:00,  7.74s/it]"
     ]
    }
   ],
   "source": [
    "score_correlation = []\n",
    "for seed in tqdm(seeds):\n",
    "    correlation_results = performance_scores.scores_seeds(seed=seed,target=target,\n",
    "                                                          lag=int(config_set['target_lag']),exp='shipsnew').run_score_corrFS(shapez=np.asarray(miss.flatten(shapez_causalFS)).max())\n",
    "    score_correlation.append(correlation_results)\n",
    "    del correlation_results\n",
    "    gc.collect()\n",
    "\n",
    "r2_train_corrFS, r2_valid_corrFS, r2_test_corrFS = [],[],[]\n",
    "for i in range(len(score_correlation)):\n",
    "    tempscore = score_correlation[i]['scoreboard']\n",
    "    trains,valids,tests=[],[],[]\n",
    "    for j in range(len(tempscore)):\n",
    "        trains.append(tempscore[j]['train']['r2'])\n",
    "        valids.append(tempscore[j]['valid']['r2'])\n",
    "        tests.append(tempscore[j]['test']['r2'])\n",
    "    r2_train_corrFS.append(trains)\n",
    "    r2_valid_corrFS.append(valids)\n",
    "    r2_test_corrFS.append(tests)\n",
    "\n",
    "pcc_train_corrFS, pcc_valid_corrFS, pcc_test_corrFS = [],[],[]\n",
    "for i in range(len(score_correlation)):\n",
    "    tempscore = score_correlation[i]['scoreboard']\n",
    "    trains,valids,tests=[],[],[]\n",
    "    for j in range(len(tempscore)):\n",
    "        trains.append(tempscore[j]['train']['r2_from_pcc'])\n",
    "        valids.append(tempscore[j]['valid']['r2_from_pcc'])\n",
    "        tests.append(tempscore[j]['test']['r2_from_pcc'])\n",
    "    pcc_train_corrFS.append(trains)\n",
    "    pcc_valid_corrFS.append(valids)\n",
    "    pcc_test_corrFS.append(tests)"
   ]
  },
  {
   "cell_type": "code",
   "execution_count": 37,
   "id": "0d3a66d9-4036-44c2-b49d-a7d73438fcbf",
   "metadata": {},
   "outputs": [
    {
     "data": {
      "text/plain": [
       "13"
      ]
     },
     "execution_count": 37,
     "metadata": {},
     "output_type": "execute_result"
    }
   ],
   "source": [
    "len(score_correlation[2]['scoreboard'])"
   ]
  },
  {
   "cell_type": "code",
   "execution_count": 38,
   "id": "8d9494de-e566-45f9-a872-7561fb26f182",
   "metadata": {},
   "outputs": [],
   "source": [
    "bestfold_corr = np.asarray([np.mean(obj) for obj in pcc_valid_corrFS]).argmax()\n",
    "bestmodel_corr = [np.argmax(obj) for obj in pcc_valid_corrFS][bestfold_corr]"
   ]
  },
  {
   "cell_type": "code",
   "execution_count": 39,
   "id": "43ce8160-cd34-494a-a174-a35f5245ec71",
   "metadata": {},
   "outputs": [
    {
     "data": {
      "text/plain": [
       "(2, 6)"
      ]
     },
     "execution_count": 39,
     "metadata": {},
     "output_type": "execute_result"
    }
   ],
   "source": [
    "bestfold_corr, bestmodel_corr"
   ]
  },
  {
   "cell_type": "code",
   "execution_count": 40,
   "id": "c478d164-f07e-4c13-8757-a5fd34892603",
   "metadata": {},
   "outputs": [
    {
     "data": {
      "text/plain": [
       "T200    0.173257\n",
       "T250    0.083364\n",
       "LAT     0.158955\n",
       "CSST    0.002647\n",
       "PSLV    0.113456\n",
       "Z850    0.034012\n",
       "dtype: float64"
      ]
     },
     "execution_count": 40,
     "metadata": {},
     "output_type": "execute_result"
    }
   ],
   "source": [
    "bestfold_corr = np.asarray([np.mean(obj) for obj in pcc_valid_corrFS]).argmax()\n",
    "bestmodel_corr = [np.argmax(obj) for obj in pcc_valid_corrFS][bestfold_corr]\n",
    "resultsz_corr = score_correlation[bestfold_corr]\n",
    "resultsz_corr['corrrank'][:bestmodel_corr]"
   ]
  },
  {
   "cell_type": "markdown",
   "id": "c53ab7b6-8576-48c5-9618-1aa4ad4db4e6",
   "metadata": {},
   "source": [
    "##### results"
   ]
  },
  {
   "cell_type": "code",
   "execution_count": 41,
   "id": "5ab11209-f77a-4e86-86a8-2c780eb5098d",
   "metadata": {},
   "outputs": [
    {
     "data": {
      "text/plain": [
       "(0.20292683222601526, 0.22321134468544923, 0.17956508357167578)"
      ]
     },
     "execution_count": 41,
     "metadata": {},
     "output_type": "execute_result"
    }
   ],
   "source": [
    "np.asarray(miss.flatten(r2_train_corrFS)).max(),np.asarray(miss.flatten(r2_valid_corrFS)).max(),np.asarray(miss.flatten(r2_test_corrFS)).max()"
   ]
  },
  {
   "cell_type": "code",
   "execution_count": 42,
   "id": "15026cfe-87b6-4396-a6bb-070246574d0e",
   "metadata": {},
   "outputs": [
    {
     "data": {
      "text/plain": [
       "(0.14440233861416474, 0.07897354272405943, 0.11549444716464108)"
      ]
     },
     "execution_count": 42,
     "metadata": {},
     "output_type": "execute_result"
    }
   ],
   "source": [
    "np.asarray(miss.flatten(r2_train_corrFS)).min(),np.asarray(miss.flatten(r2_valid_corrFS)).min(),np.asarray(miss.flatten(r2_test_corrFS)).min()"
   ]
  },
  {
   "cell_type": "code",
   "execution_count": 43,
   "id": "6f4c47ed-c3b4-49b1-92e7-d33462260540",
   "metadata": {},
   "outputs": [
    {
     "data": {
      "text/plain": [
       "(0.17080834403451617, 0.15751691864081024, 0.14384284693812016)"
      ]
     },
     "execution_count": 43,
     "metadata": {},
     "output_type": "execute_result"
    }
   ],
   "source": [
    "np.asarray(miss.flatten(r2_train_corrFS)).mean(),np.asarray(miss.flatten(r2_valid_corrFS)).mean(),np.asarray(miss.flatten(r2_test_corrFS)).mean()"
   ]
  },
  {
   "cell_type": "code",
   "execution_count": 44,
   "id": "9e9c8bc2-5ffe-4d53-83a9-b066634b9094",
   "metadata": {},
   "outputs": [
    {
     "data": {
      "text/plain": [
       "(0.20292683222601524, 0.2301101224266915, 0.18247687542023014)"
      ]
     },
     "execution_count": 44,
     "metadata": {},
     "output_type": "execute_result"
    }
   ],
   "source": [
    "np.asarray(miss.flatten(pcc_train_corrFS)).max(),np.asarray(miss.flatten(pcc_valid_corrFS)).max(),np.asarray(miss.flatten(pcc_test_corrFS)).max()"
   ]
  },
  {
   "cell_type": "code",
   "execution_count": 45,
   "id": "37eebb5d-4ef6-4246-83b6-ff872ebfe052",
   "metadata": {
    "jupyter": {
     "source_hidden": true
    }
   },
   "outputs": [
    {
     "data": {
      "text/plain": [
       "(0.1444023386141648, 0.08553603257867641, 0.11720913024728769)"
      ]
     },
     "execution_count": 45,
     "metadata": {},
     "output_type": "execute_result"
    }
   ],
   "source": [
    "np.asarray(miss.flatten(pcc_train_corrFS)).min(),np.asarray(miss.flatten(pcc_valid_corrFS)).min(),np.asarray(miss.flatten(pcc_test_corrFS)).min()"
   ]
  },
  {
   "cell_type": "code",
   "execution_count": 46,
   "id": "151e241d-9f99-453e-80d3-a48833a68aa7",
   "metadata": {},
   "outputs": [
    {
     "data": {
      "text/plain": [
       "(0.17080834403451617, 0.16409979350609205, 0.14491324742791484)"
      ]
     },
     "execution_count": 46,
     "metadata": {},
     "output_type": "execute_result"
    }
   ],
   "source": [
    "np.asarray(miss.flatten(pcc_train_corrFS)).mean(),np.asarray(miss.flatten(pcc_valid_corrFS)).mean(),np.asarray(miss.flatten(pcc_test_corrFS)).mean()"
   ]
  },
  {
   "cell_type": "code",
   "execution_count": 47,
   "id": "2280fc4f-691b-44d1-a400-7b69bd8b44b9",
   "metadata": {},
   "outputs": [
    {
     "data": {
      "image/png": "[encoded data removed]",
      "text/plain": [
       "<Figure size 800x400 with 1 Axes>"
      ]
     },
     "metadata": {},
     "output_type": "display_data"
    }
   ],
   "source": [
    "fig,ax = plt.subplots(1,1,figsize=(8,4))\n",
    "sns.kdeplot(np.asarray(miss.flatten(pcc_train_causalFS)),ls='--',lw=1,c='k',label='Causal: Train',ax=ax)\n",
    "sns.kdeplot(np.asarray(miss.flatten(pcc_train_corrFS)),c='k',ls='-',lw=1,alpha=0.7,label='Correlation: Train',ax=ax)\n",
    "sns.kdeplot(np.asarray(miss.flatten(pcc_valid_causalFS)),ls='--',lw=1,c='b',label='Causal: Validation',ax=ax)\n",
    "sns.kdeplot(np.asarray(miss.flatten(pcc_valid_corrFS)),c='b',ls='-',lw=1,alpha=0.7,label='Correlation: Validation',ax=ax)\n",
    "sns.kdeplot(np.asarray(miss.flatten(pcc_test_causalFS)),ls='--',lw=1,c='r',label='Causal: Test',ax=ax)\n",
    "sns.kdeplot(np.asarray(miss.flatten(pcc_test_corrFS)),c='r',ls='-',lw=1,alpha=0.7,label='Correlation: Test',ax=ax)\n",
    "plt.legend(loc=2)\n",
    "plt.xlabel('PCC')\n",
    "plt.xlim(-0.2,0.4)\n",
    "plt.savefig(f'./figures/SHIPSplus_noassum_pcc_corr_kfold_{target}.png',dpi=600)\n",
    "plt.show()"
   ]
  },
  {
   "cell_type": "code",
   "execution_count": 48,
   "id": "c7d8fa38-917a-4483-9aca-b77826638555",
   "metadata": {},
   "outputs": [
    {
     "data": {
      "text/plain": [
       "<module 'util.models.performance_scores' from '/home/upendra/test/2025_CausalSHIPS/util/models/performance_scores.py'>"
      ]
     },
     "execution_count": 48,
     "metadata": {},
     "output_type": "execute_result"
    }
   ],
   "source": [
    "import importlib\n",
    "importlib.reload(performance_scores)"
   ]
  },
  {
   "cell_type": "markdown",
   "id": "108099f5-eeaa-4269-9497-8758dd2873b0",
   "metadata": {},
   "source": [
    "## With XAI feature selection"
   ]
  },
  {
   "cell_type": "code",
   "execution_count": 50,
   "id": "8e42ca43-db24-4c19-aa1f-7d9f97b61a1b",
   "metadata": {
    "scrolled": true
   },
   "outputs": [
    {
     "name": "stderr",
     "output_type": "stream",
     "text": [
      "\n",
      "00%|█████████████████████████████████████████████| 7/7 [04:41<00:00, 40.22s/it]"
     ]
    }
   ],
   "source": [
    "# Define the directory where the pickle files will be stored\n",
    "import os\n",
    "save_dir = 'results/4/XAI_shipsplus/'\n",
    "\n",
    "# Ensure the directory exists, if not, create it\n",
    "os.makedirs(save_dir, exist_ok=True)\n",
    "\n",
    "score_corr = []\n",
    "for seed in tqdm(seeds):\n",
    "    corr_results = performance_scores.scores_seeds(seed=seed, target=target, lag=int(config_set['target_lag']), exp='shipsnew').run_score_XAIFS(shapez=np.asarray(miss.flatten(shapez_causalFS)).max())\n",
    "    \n",
    "    # Save the result to a pickle file for each seed with the specified path\n",
    "    save_path = os.path.join(save_dir, f'xai_results_fold_{seed}.pkl')\n",
    "    with open(save_path, 'wb') as f:\n",
    "        pickle.dump(corr_results, f)\n",
    "    \n",
    "    score_corr.append(corr_results)\n",
    "    del corr_results\n",
    "    gc.collect()\n"
   ]
  },
  {
   "cell_type": "code",
   "execution_count": 51,
   "id": "5c410afe-ce29-4656-b739-0baa386d14b3",
   "metadata": {},
   "outputs": [
    {
     "data": {
      "text/plain": [
       "4"
      ]
     },
     "execution_count": 51,
     "metadata": {},
     "output_type": "execute_result"
    }
   ],
   "source": [
    "(int(config_set['target_lag']))"
   ]
  },
  {
   "cell_type": "code",
   "execution_count": 53,
   "id": "2d5ea5d7-abf7-4d11-981f-1a60a43e8088",
   "metadata": {},
   "outputs": [],
   "source": [
    "#save_dir= '/work/FAC/FGSE/IDYST/tbeucler/default/saranya/causal/ships_plus_new/results/20/XAI_shipsplus/'\n",
    "save_dir = f\"results/{(int(config_set['target_lag']))}/XAI_shipsplus/\"\n",
    "# List to store the loaded results\n",
    "score_corr = []\n",
    "\n",
    "# Load each pickle file and append to score_corr\n",
    "for seed in seeds:\n",
    "    file_path = os.path.join(save_dir, f'xai_results_fold_{seed}.pkl')\n",
    "    with open(file_path, 'rb') as f:\n",
    "        corr_results = pickle.load(f)\n",
    "        score_corr.append(corr_results)\n",
    "\n",
    "r2_train_XAIFS, r2_valid_XAIFS, r2_test_XAIFS = [],[],[]\n",
    "for i in range(len(score_corr)):\n",
    "    tempscore = score_corr[i]['scoreboard']\n",
    "    trains,valids,tests=[],[],[]\n",
    "    for j in range(len(tempscore)):\n",
    "        trains.append(tempscore[j]['train']['r2'])\n",
    "        valids.append(tempscore[j]['valid']['r2'])\n",
    "        tests.append(tempscore[j]['test']['r2'])\n",
    "    r2_train_XAIFS.append(trains)\n",
    "    r2_valid_XAIFS.append(valids)\n",
    "    r2_test_XAIFS.append(tests)\n",
    "\n",
    "pcc_train_XAIFS, pcc_valid_XAIFS, pcc_test_XAIFS = [],[],[]\n",
    "for i in range(len(score_corr)):\n",
    "    tempscore = score_corr[i]['scoreboard']\n",
    "    trains,valids,tests=[],[],[]\n",
    "    for j in range(len(tempscore)):\n",
    "        trains.append(tempscore[j]['train']['r2_from_pcc'])\n",
    "        valids.append(tempscore[j]['valid']['r2_from_pcc'])\n",
    "        tests.append(tempscore[j]['test']['r2_from_pcc'])\n",
    "    pcc_train_XAIFS.append(trains)\n",
    "    pcc_valid_XAIFS.append(valids)\n",
    "    pcc_test_XAIFS.append(tests)"
   ]
  },
  {
   "cell_type": "code",
   "execution_count": 55,
   "id": "72230270-4b50-41c0-82fb-389cb4cd656a",
   "metadata": {},
   "outputs": [],
   "source": [
    "bestfold_xai = np.asarray([np.mean(obj) for obj in pcc_valid_XAIFS]).argmin()\n",
    "bestmodel_xai = [np.argmin(obj) for obj in pcc_valid_XAIFS][bestfold_xai]\n",
    "resultsz_xai = miss.read_pickle(os.path.join(save_dir, f'xai_results_fold_{seeds[bestfold_xai]}.pkl'))"
   ]
  },
  {
   "cell_type": "code",
   "execution_count": 56,
   "id": "c1d05fe4-15fa-49e5-a0f5-f4a571ec3206",
   "metadata": {},
   "outputs": [
    {
     "data": {
      "text/plain": [
       "12"
      ]
     },
     "execution_count": 56,
     "metadata": {},
     "output_type": "execute_result"
    }
   ],
   "source": [
    "bestmodel_xai"
   ]
  },
  {
   "cell_type": "code",
   "execution_count": 57,
   "id": "c6eb3c23-6c2f-4900-a5f9-b767d8a1a5dd",
   "metadata": {},
   "outputs": [
    {
     "data": {
      "text/plain": [
       "T200    0.020352\n",
       "T250    0.009343\n",
       "LAT     0.037808\n",
       "CSST    0.046215\n",
       "PSLV    0.047092\n",
       "Z850    0.011865\n",
       "D200    0.006828\n",
       "EPOS    0.020791\n",
       "SHDC    0.008463\n",
       "RHMD    0.009439\n",
       "TWAC    0.025648\n",
       "G200    0.011238\n",
       "dtype: float64"
      ]
     },
     "execution_count": 57,
     "metadata": {},
     "output_type": "execute_result"
    }
   ],
   "source": [
    "resultsz_xai['XAIrank'][:bestmodel_xai]"
   ]
  },
  {
   "cell_type": "code",
   "execution_count": 60,
   "id": "dd50b268-82ba-4c88-98ce-5c038d704453",
   "metadata": {},
   "outputs": [
    {
     "data": {
      "text/plain": [
       "['POT', 'PSLV', 'SHL1', 'G200', 'T200', 'SHMD', 'PVOR']"
      ]
     },
     "execution_count": 60,
     "metadata": {},
     "output_type": "execute_result"
    }
   ],
   "source": [
    "bestfold = np.asarray([np.mean(obj) for obj in pcc_valid_causalFS]).argmax()\n",
    "bestmodel = [np.argmax(obj) for obj in pcc_valid_causalFS][bestfold]\n",
    "resultsz = miss.read_pickle('results/'+str(int(config_set['target_lag']))+'/'+'shipsnew'+'/'+'results_fold_'+str(int(seeds[bestfold]))+'.pkl')['PC1_results']\n",
    "[var_names[ind] for ind in [obj[0] for obj in resultsz[bestmodel][0]]]"
   ]
  },
  {
   "cell_type": "markdown",
   "id": "635be334-33bc-46c7-a7b7-541836261760",
   "metadata": {},
   "source": [
    "##### results"
   ]
  },
  {
   "cell_type": "code",
   "execution_count": 61,
   "id": "febbace2-191e-4a4f-a221-c32f7ca15ed0",
   "metadata": {
    "tags": []
   },
   "outputs": [
    {
     "data": {
      "image/png": "[encoded data removed]",
      "text/plain": [
       "<Figure size 800x400 with 1 Axes>"
      ]
     },
     "metadata": {},
     "output_type": "display_data"
    }
   ],
   "source": [
    "#with load_theme(\"scientific\"):\n",
    "fig,ax = plt.subplots(1,1,figsize=(8,4))\n",
    "sns.kdeplot(np.asarray(miss.flatten(pcc_train_causalFS)),ls='--',lw=1,c='k',label='Causal: Train',ax=ax)\n",
    "sns.kdeplot(np.asarray(miss.flatten(pcc_train_XAIFS)),c='k',ls='-',lw=1,alpha=0.7,label='Random Forest: Train',ax=ax)\n",
    "sns.kdeplot(np.asarray(miss.flatten(pcc_valid_causalFS)),ls='--',lw=1,c='b',label='Causal: Validation',ax=ax)\n",
    "sns.kdeplot(np.asarray(miss.flatten(pcc_valid_XAIFS)),c='b',ls='-',lw=1,alpha=0.7,label='Random Forest: Validation',ax=ax)\n",
    "sns.kdeplot(np.asarray(miss.flatten(pcc_test_causalFS)),ls='--',lw=1,c='r',label='Causal: Test',ax=ax)\n",
    "sns.kdeplot(np.asarray(miss.flatten(pcc_test_XAIFS)),c='r',ls='-',lw=1,alpha=0.7,label='Random Forest: Test',ax=ax)\n",
    "plt.legend(loc=2)\n",
    "plt.xlabel('PCC')\n",
    "plt.xlim(-0.1,0.3)\n",
    "plt.savefig(f'./figures/SHIPSplus_noassum_pcc_randomforest_kfold_{target}.png')"
   ]
  },
  {
   "cell_type": "code",
   "execution_count": 62,
   "id": "48e7a8ce-0f10-4164-9c30-e3fb86418d1b",
   "metadata": {},
   "outputs": [
    {
     "data": {
      "text/plain": [
       "(0.20327115801746487, 0.2095964165352454, 0.18641043311661432)"
      ]
     },
     "execution_count": 62,
     "metadata": {},
     "output_type": "execute_result"
    }
   ],
   "source": [
    "np.asarray(miss.flatten(r2_train_XAIFS)).max(),np.asarray(miss.flatten(r2_valid_XAIFS)).max(),np.asarray(miss.flatten(r2_test_XAIFS)).max()"
   ]
  },
  {
   "cell_type": "code",
   "execution_count": 63,
   "id": "e5c88598-cdb2-4add-a724-cb22532c1b36",
   "metadata": {},
   "outputs": [
    {
     "data": {
      "text/plain": [
       "(0.14440233861416474, 0.08354857872870369, 0.11549444716464108)"
      ]
     },
     "execution_count": 63,
     "metadata": {},
     "output_type": "execute_result"
    }
   ],
   "source": [
    "np.asarray(miss.flatten(r2_train_XAIFS)).min(),np.asarray(miss.flatten(r2_valid_XAIFS)).min(),np.asarray(miss.flatten(r2_test_XAIFS)).min()"
   ]
  },
  {
   "cell_type": "code",
   "execution_count": 64,
   "id": "331a477a-24a1-48d4-99eb-88905c05bc83",
   "metadata": {},
   "outputs": [
    {
     "data": {
      "text/plain": [
       "(0.17654487299224814, 0.1620992190817013, 0.1553895206594096)"
      ]
     },
     "execution_count": 64,
     "metadata": {},
     "output_type": "execute_result"
    }
   ],
   "source": [
    "np.asarray(miss.flatten(r2_train_XAIFS)).mean(),np.asarray(miss.flatten(r2_valid_XAIFS)).mean(),np.asarray(miss.flatten(r2_test_XAIFS)).mean()"
   ]
  },
  {
   "cell_type": "code",
   "execution_count": 65,
   "id": "3b1d3f09-9d8c-47e5-9fc1-778caa4ca3fa",
   "metadata": {},
   "outputs": [
    {
     "data": {
      "text/plain": [
       "(0.20327115801746495, 0.21207131435491103, 0.18965174689665287)"
      ]
     },
     "execution_count": 65,
     "metadata": {},
     "output_type": "execute_result"
    }
   ],
   "source": [
    "np.asarray(miss.flatten(pcc_train_XAIFS)).max(),np.asarray(miss.flatten(pcc_valid_XAIFS)).max(),np.asarray(miss.flatten(pcc_test_XAIFS)).max()"
   ]
  },
  {
   "cell_type": "code",
   "execution_count": 66,
   "id": "2daf2965-1578-4370-b29a-9a6db8dc7abf",
   "metadata": {},
   "outputs": [
    {
     "data": {
      "text/plain": [
       "(0.1444023386141648, 0.09314552059808753, 0.11720913024728769)"
      ]
     },
     "execution_count": 66,
     "metadata": {},
     "output_type": "execute_result"
    }
   ],
   "source": [
    "np.asarray(miss.flatten(pcc_train_XAIFS)).min(),np.asarray(miss.flatten(pcc_valid_XAIFS)).min(),np.asarray(miss.flatten(pcc_test_XAIFS)).min()"
   ]
  },
  {
   "cell_type": "code",
   "execution_count": 67,
   "id": "24df90ff-85f3-43a3-a027-296abc824cf0",
   "metadata": {},
   "outputs": [
    {
     "data": {
      "text/plain": [
       "(0.1765448729922482, 0.16748963082699472, 0.15725549154726823)"
      ]
     },
     "execution_count": 67,
     "metadata": {},
     "output_type": "execute_result"
    }
   ],
   "source": [
    "np.asarray(miss.flatten(pcc_train_XAIFS)).mean(),np.asarray(miss.flatten(pcc_valid_XAIFS)).mean(),np.asarray(miss.flatten(pcc_test_XAIFS)).mean()"
   ]
  },
  {
   "cell_type": "markdown",
   "id": "ae79dc01-b53c-4d55-813e-7dbfc23eb9de",
   "metadata": {},
   "source": [
    "## Boxplot"
   ]
  },
  {
   "cell_type": "code",
   "execution_count": 68,
   "id": "d6e3f4e9-4157-4fa7-9bbf-8f8bda84d0bd",
   "metadata": {
    "scrolled": true
   },
   "outputs": [
    {
     "name": "stdout",
     "output_type": "stream",
     "text": [
      "✅ Saved pccbox_shipsplus_DELV24.pkl\n"
     ]
    }
   ],
   "source": [
    "import pickle\n",
    "\n",
    "# === Bundle your arrays ===\n",
    "pccbox_delv24 = {\n",
    "    'train_noFS': pcc_train_noFS,\n",
    "    'valid_noFS': pcc_valid_noFS,\n",
    "    'test_noFS': pcc_test_noFS,\n",
    "\n",
    "    'train_causalFS': pcc_train_causalFS,\n",
    "    'valid_causalFS': pcc_valid_causalFS,\n",
    "    'test_causalFS': pcc_test_causalFS,\n",
    "\n",
    "    'train_corrFS': pcc_train_corrFS,\n",
    "    'valid_corrFS': pcc_valid_corrFS,\n",
    "    'test_corrFS': pcc_test_corrFS,\n",
    "\n",
    "    'train_XAIFS': pcc_train_XAIFS,\n",
    "    'valid_XAIFS': pcc_valid_XAIFS,\n",
    "    'test_XAIFS': pcc_test_XAIFS,\n",
    "}\n",
    "\n",
    "# === Save to pickle ===\n",
    "with open(f'box_plot_pkl/pccbox_shipsplus_{target}.pkl', 'wb') as f:\n",
    "    pickle.dump(pccbox_delv24, f)\n",
    "\n",
    "print(f\"✅ Saved pccbox_shipsplus_{target}.pkl\")"
   ]
  },
  {
   "cell_type": "code",
   "execution_count": 69,
   "id": "dd182561-ba34-4ddc-9951-d67e261bd810",
   "metadata": {},
   "outputs": [
    {
     "name": "stdout",
     "output_type": "stream",
     "text": [
      "✅ Saved r2box_shipsplus_DELV24.pkl\n"
     ]
    }
   ],
   "source": [
    "import pickle\n",
    "\n",
    "# === Bundle your arrays ===\n",
    "pccbox_delv24 = {\n",
    "    'train_noFS': r2_train_noFS,\n",
    "    'valid_noFS': r2_valid_noFS,\n",
    "    'test_noFS': r2_test_noFS,\n",
    "\n",
    "    'train_causalFS': r2_train_causalFS,\n",
    "    'valid_causalFS': r2_valid_causalFS,\n",
    "    'test_causalFS': r2_test_causalFS,\n",
    "\n",
    "    'train_corrFS': r2_train_corrFS,\n",
    "    'valid_corrFS': r2_valid_corrFS,\n",
    "    'test_corrFS': r2_test_corrFS,\n",
    "\n",
    "    'train_XAIFS': r2_train_XAIFS,\n",
    "    'valid_XAIFS': r2_valid_XAIFS,\n",
    "    'test_XAIFS': r2_test_XAIFS,\n",
    "}\n",
    "\n",
    "# === Save to pickle ===\n",
    "with open(f'box_plot_pkl/r2box_shipsplus_{target}.pkl', 'wb') as f:\n",
    "    pickle.dump(pccbox_delv24, f)\n",
    "\n",
    "print(f\"✅ Saved r2box_shipsplus_{target}.pkl\")"
   ]
  }
 ],
 "metadata": {
  "kernelspec": {
   "display_name": "Python 3 (ipykernel)",
   "language": "python",
   "name": "python3"
  },
  "language_info": {
   "codemirror_mode": {
    "name": "ipython",
    "version": 3
   },
   "file_extension": ".py",
   "mimetype": "text/x-python",
   "name": "python",
   "nbconvert_exporter": "python",
   "pygments_lexer": "ipython3",
   "version": "3.9.15"
  }
 },
 "nbformat": 4,
 "nbformat_minor": 5
}
