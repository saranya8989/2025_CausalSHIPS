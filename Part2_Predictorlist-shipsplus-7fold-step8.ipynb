{
 "cells": [
  {
   "cell_type": "code",
   "execution_count": 122,
   "id": "3a574145-b906-4f60-bf64-78c37bea1bc7",
   "metadata": {},
   "outputs": [],
   "source": [
    "from tqdm.auto import tqdm \n",
    "import pandas as pd\n",
    "import numpy as np\n",
    "import xarray as xr\n",
    "import netCDF4 as nf\n",
    "from netCDF4 import Dataset\n",
    "%matplotlib inline\n",
    "import glob\n",
    "import seaborn as sns\n",
    "import matplotlib.pyplot as plt\n",
    "import ast,gc,pickle\n",
    "from copy import deepcopy\n",
    "\n",
    "# Custom packages\n",
    "import read_config\n",
    "from util.data_process import read_vars, proc_dataset, miss\n",
    "from util.models import performance_scores,train_baseline,causal_settings,train_PC1"
   ]
  },
  {
   "cell_type": "code",
   "execution_count": 123,
   "id": "01913bbd-3794-4dbe-9aac-19564ad3162a",
   "metadata": {},
   "outputs": [],
   "source": [
    "# Read configuration file\n",
    "config_set = read_config.read_config('./config.ini')\n",
    "# Define Target\n",
    "if int(config_set['target_lag'])==20:\n",
    "    target='DELV120'\n",
    "if int(config_set['target_lag'])==16:\n",
    "    target='DELV96'\n",
    "if int(config_set['target_lag'])==12:\n",
    "    target='DELV72'\n",
    "if int(config_set['target_lag'])==8:\n",
    "    target='DELV48'\n",
    "if int(config_set['target_lag'])==4:\n",
    "    target='DELV24'\n",
    "seeds = np.arange(0,7,1)#np.arange(100,131,1)"
   ]
  },
  {
   "cell_type": "code",
   "execution_count": 124,
   "id": "818427a5-9185-426e-8775-67de36c0095c",
   "metadata": {},
   "outputs": [
    {
     "data": {
      "text/plain": [
       "'DELV24'"
      ]
     },
     "execution_count": 124,
     "metadata": {},
     "output_type": "execute_result"
    }
   ],
   "source": [
    "target"
   ]
  },
  {
   "cell_type": "code",
   "execution_count": 125,
   "id": "5e1d552f-d1d5-4fa1-a891-fc472d474ae7",
   "metadata": {},
   "outputs": [],
   "source": [
    "var_names =  performance_scores.scores_seeds(seed=0,target=target,lag=int(config_set['target_lag']),exp='shipsplus').read_stored()['var_names']"
   ]
  },
  {
   "cell_type": "code",
   "execution_count": 126,
   "id": "9b0af78e-716d-419a-944a-009d8a409f81",
   "metadata": {},
   "outputs": [
    {
     "data": {
      "text/plain": [
       "28"
      ]
     },
     "execution_count": 126,
     "metadata": {},
     "output_type": "execute_result"
    }
   ],
   "source": [
    "len(var_names)"
   ]
  },
  {
   "cell_type": "code",
   "execution_count": 127,
   "id": "645fa74d-53f8-4eb3-b884-a9542763bec2",
   "metadata": {
    "scrolled": true
   },
   "outputs": [
    {
     "data": {
      "text/plain": [
       "['DELV24',\n",
       " 'T200',\n",
       " 'T250',\n",
       " 'LAT',\n",
       " 'CSST',\n",
       " 'PSLV',\n",
       " 'Z850',\n",
       " 'D200',\n",
       " 'EPOS',\n",
       " 'SHDC',\n",
       " 'RHMD',\n",
       " 'TWAC',\n",
       " 'G200',\n",
       " 'TADV',\n",
       " 'SHGC',\n",
       " 'POT',\n",
       " 'POT2',\n",
       " 'LHRD',\n",
       " 'VSHR',\n",
       " 'PER',\n",
       " 'VPER',\n",
       " 'R001',\n",
       " 'R000',\n",
       " 'SHMD',\n",
       " 'PVOR',\n",
       " 'SHL1',\n",
       " 'SHL0',\n",
       " 'pc20']"
      ]
     },
     "execution_count": 127,
     "metadata": {},
     "output_type": "execute_result"
    }
   ],
   "source": [
    "list(var_names)"
   ]
  },
  {
   "cell_type": "markdown",
   "id": "b41c3745-e315-4053-a0c7-79263e25a02b",
   "metadata": {},
   "source": [
    "# With causal"
   ]
  },
  {
   "cell_type": "code",
   "execution_count": 128,
   "id": "1bed94ae-1b49-4228-a5b6-ebc75ccbaf73",
   "metadata": {},
   "outputs": [
    {
     "data": {
      "application/vnd.jupyter.widget-view+json": {
       "model_id": "60046f8ecda0401e9db5abc2e165a8e8",
       "version_major": 2,
       "version_minor": 0
      },
      "text/plain": [
       "  0%|          | 0/7 [00:00<?, ?it/s]"
      ]
     },
     "metadata": {},
     "output_type": "display_data"
    }
   ],
   "source": [
    "score_causal = []\n",
    "for seed in tqdm(seeds):\n",
    "    causal_results = performance_scores.scores_seeds(seed=seed,\n",
    "                                                     target=target,\n",
    "                                                     lag=int(config_set['target_lag']),\n",
    "                                                     exp='shipsplus').run_score_causalFS()\n",
    "    score_causal.append(causal_results)\n",
    "    del causal_results\n",
    "    gc.collect()"
   ]
  },
  {
   "cell_type": "code",
   "execution_count": 129,
   "id": "31ef9317-7df6-4abb-b7fe-bb5381694b25",
   "metadata": {},
   "outputs": [],
   "source": [
    "r2_train_causalFS, r2_valid_causalFS, r2_test_causalFS, shapez_causalFS = [],[],[],[]\n",
    "for i in range(len(score_causal)):\n",
    "    r2_train_causalFS.append([(score_causal[i][j]['scoreboard']['train']['r2']) for j in range(len(score_causal[i]))])\n",
    "    r2_valid_causalFS.append([(score_causal[i][j]['scoreboard']['valid']['r2']) for j in range(len(score_causal[i]))])\n",
    "    r2_test_causalFS.append([(score_causal[i][j]['scoreboard']['test']['r2']) for j in range(len(score_causal[i]))])\n",
    "    shapez_causalFS.append([(score_causal[i][j]['X']['test'].shape[1]) for j in range(len(score_causal[i]))])"
   ]
  },
  {
   "cell_type": "markdown",
   "id": "aefb12bd-dea9-4526-b192-4f495bb16f59",
   "metadata": {},
   "source": [
    "## Find variable lists"
   ]
  },
  {
   "cell_type": "code",
   "execution_count": 130,
   "id": "b678c9a0-41a1-4ab0-809b-939d5e3436a2",
   "metadata": {},
   "outputs": [],
   "source": [
    "def find_best_var_per_seed_causal(r2,score_causal):\n",
    "    causal_varlists = []\n",
    "    for i in range(len(score_causal)):\n",
    "        causal_varlists.append(score_causal[i][np.asarray(r2[i]).argmax()]['corrrank'])\n",
    "    return causal_varlists\n",
    "\n",
    "def find_best_var_per_seed_corrXAI(r2,score_corr):\n",
    "    corr_varlists = []\n",
    "    for i in range(len(score_corr)):\n",
    "        corr_varlists.append(score_correlation[i]['corrrank'].sort_values(ascending=False).index[0:np.asarray(r2[i]).argmax()+1])\n",
    "    return corr_varlists\n",
    "\n",
    "def find_best_var_per_seed_XAI(r2,score_corr):\n",
    "    corr_varlists = []\n",
    "    for i in range(len(score_corr)):\n",
    "        corr_varlists.append(score_corr[i]['XAIrank'].sort_values(ascending=False).index[0:np.asarray(r2[i]).argmax()+1])\n",
    "    return corr_varlists\n",
    "\n",
    "def count_all_varlists(varlists):\n",
    "    from collections import Counter\n",
    "    from functools import reduce\n",
    "    freq = list(map(Counter, varlists)) \n",
    "    res = {ele: [cnt[ele] for cnt in freq] for ele in {ele for cnt in freq for ele in cnt}}\n",
    "    \n",
    "    dict1 = res\n",
    "    for k, v in dict1.items():\n",
    "        dict1[k] = reduce(lambda a, b: a+b, v)\n",
    "    return pd.Series((dict1))"
   ]
  },
  {
   "cell_type": "code",
   "execution_count": 131,
   "id": "9ed2e3d8-c7e1-494a-87cb-b6b6db0f6e37",
   "metadata": {},
   "outputs": [],
   "source": [
    "causal_varlists = find_best_var_per_seed_causal(r2_valid_causalFS,score_causal)\n",
    "count_causallists = count_all_varlists(causal_varlists)"
   ]
  },
  {
   "cell_type": "code",
   "execution_count": 132,
   "id": "0b832450-f5de-4034-9bc9-3b90f1f4567d",
   "metadata": {},
   "outputs": [],
   "source": [
    "bestvars=count_causallists.sort_values(ascending=False)[:40] "
   ]
  },
  {
   "cell_type": "code",
   "execution_count": 133,
   "id": "4550ea8a-1550-418f-9482-3ce3dee57d2e",
   "metadata": {},
   "outputs": [
    {
     "data": {
      "text/plain": [
       "T200    7\n",
       "POT     7\n",
       "PSLV    7\n",
       "G200    6\n",
       "SHMD    6\n",
       "SHL1    4\n",
       "Z850    3\n",
       "pc20    3\n",
       "PVOR    3\n",
       "SHL0    2\n",
       "POT2    2\n",
       "R000    2\n",
       "TADV    1\n",
       "LAT     1\n",
       "dtype: int64"
      ]
     },
     "execution_count": 133,
     "metadata": {},
     "output_type": "execute_result"
    }
   ],
   "source": [
    "count_causallists.sort_values(ascending=False)[:50] "
   ]
  },
  {
   "cell_type": "code",
   "execution_count": null,
   "id": "12d3b016-5043-45e1-bf32-d8852fac2605",
   "metadata": {},
   "outputs": [],
   "source": []
  },
  {
   "cell_type": "code",
   "execution_count": 134,
   "id": "5fee37ed-aae7-4e99-8687-18c2e3711ab0",
   "metadata": {},
   "outputs": [],
   "source": [
    "import os\n",
    "save_dir= '/work/FAC/FGSE/IDYST/tbeucler/default/saranya/causal/ships_plus_new/results/4/XAI_shipsplus/'\n",
    "# List to store the loaded results\n",
    "score_corr = []\n",
    "\n",
    "# Load each pickle file and append to score_corr\n",
    "for seed in seeds:\n",
    "    file_path = os.path.join(save_dir, f'xai_results_fold_{seed}.pkl')\n",
    "    with open(file_path, 'rb') as f:\n",
    "        corr_results = pickle.load(f)\n",
    "        score_corr.append(corr_results)"
   ]
  },
  {
   "cell_type": "code",
   "execution_count": 135,
   "id": "8657efe3-0e45-4b1b-bc05-e529f33e44d1",
   "metadata": {},
   "outputs": [],
   "source": [
    "r2_train_XAIFS, r2_valid_XAIFS, r2_test_XAIFS = [],[],[]\n",
    "for i in range(len(score_corr)):\n",
    "    tempscore = score_corr[i]['scoreboard']\n",
    "    trains,valids,tests=[],[],[]\n",
    "    for j in range(len(tempscore)):\n",
    "        trains.append(tempscore[j]['train']['r2'])\n",
    "        valids.append(tempscore[j]['valid']['r2'])\n",
    "        tests.append(tempscore[j]['test']['r2'])\n",
    "    r2_train_XAIFS.append(trains)\n",
    "    r2_valid_XAIFS.append(valids)\n",
    "    r2_test_XAIFS.append(tests)"
   ]
  },
  {
   "cell_type": "code",
   "execution_count": 136,
   "id": "bcbfb1e3-79ab-43c5-94c8-017388c4a8d5",
   "metadata": {},
   "outputs": [],
   "source": [
    "xai_varlists = find_best_var_per_seed_XAI(r2_valid_XAIFS,score_corr)\n",
    "count_xailists = count_all_varlists(xai_varlists)"
   ]
  },
  {
   "cell_type": "code",
   "execution_count": 137,
   "id": "6777b9aa-c78d-4035-bd04-5edb93e13b47",
   "metadata": {},
   "outputs": [
    {
     "data": {
      "text/plain": [
       "POT     7\n",
       "VSHR    7\n",
       "PSLV    7\n",
       "LAT     5\n",
       "CSST    4\n",
       "T200    3\n",
       "TWAC    3\n",
       "PVOR    3\n",
       "SHL0    2\n",
       "POT2    2\n",
       "pc20    2\n",
       "SHGC    1\n",
       "G200    1\n",
       "dtype: int64"
      ]
     },
     "execution_count": 137,
     "metadata": {},
     "output_type": "execute_result"
    }
   ],
   "source": [
    "count_xailists.sort_values(ascending=False)[:40] #4"
   ]
  },
  {
   "cell_type": "code",
   "execution_count": null,
   "id": "0a048aef-6ec8-4106-958f-aecb0aca36b1",
   "metadata": {},
   "outputs": [],
   "source": []
  },
  {
   "cell_type": "markdown",
   "id": "0621f536-6342-4747-b99b-223d072b0645",
   "metadata": {},
   "source": [
    "## With Correlation"
   ]
  },
  {
   "cell_type": "code",
   "execution_count": 138,
   "id": "587adc2a-dc24-4c81-bb37-3f9042ae7773",
   "metadata": {},
   "outputs": [
    {
     "data": {
      "application/vnd.jupyter.widget-view+json": {
       "model_id": "e41eb5db128b4dc08866ea215561d433",
       "version_major": 2,
       "version_minor": 0
      },
      "text/plain": [
       "  0%|          | 0/7 [00:00<?, ?it/s]"
      ]
     },
     "metadata": {},
     "output_type": "display_data"
    }
   ],
   "source": [
    "score_correlation = []\n",
    "for seed in tqdm(seeds):\n",
    "    correlation_results = performance_scores.scores_seeds(seed=seed,target=target,lag=int(config_set['target_lag']),exp='shipsplus').run_score_corrFS(shapez=np.asarray(miss.flatten(shapez_causalFS)).max())\n",
    "    score_correlation.append(correlation_results)\n",
    "    del correlation_results\n",
    "    gc.collect()"
   ]
  },
  {
   "cell_type": "code",
   "execution_count": 139,
   "id": "418823ec-6857-4c3a-8cdb-9fb4f60445d9",
   "metadata": {},
   "outputs": [],
   "source": [
    "r2_train_corrFS, r2_valid_corrFS, r2_test_corrFS = [],[],[]\n",
    "for i in range(len(score_correlation)):\n",
    "    tempscore = score_correlation[i]['scoreboard']\n",
    "    trains,valids,tests=[],[],[]\n",
    "    for j in range(len(tempscore)):\n",
    "        trains.append(tempscore[j]['train']['r2'])\n",
    "        valids.append(tempscore[j]['valid']['r2'])\n",
    "        tests.append(tempscore[j]['test']['r2'])\n",
    "    r2_train_corrFS.append(trains)\n",
    "    r2_valid_corrFS.append(valids)\n",
    "    r2_test_corrFS.append(tests)"
   ]
  },
  {
   "cell_type": "code",
   "execution_count": 140,
   "id": "94cdde55-bf70-4dc4-a6c3-4474b48ee9dd",
   "metadata": {},
   "outputs": [],
   "source": [
    "corr_varlists = find_best_var_per_seed_corrXAI(r2_valid_corrFS,score_correlation)\n",
    "count_corrlists = count_all_varlists(corr_varlists)"
   ]
  },
  {
   "cell_type": "code",
   "execution_count": 141,
   "id": "977a4135-b072-4137-93ac-626d938775fb",
   "metadata": {},
   "outputs": [
    {
     "data": {
      "text/plain": [
       "POT     7\n",
       "TWAC    6\n",
       "G200    5\n",
       "VSHR    5\n",
       "T200    4\n",
       "pc20    4\n",
       "LAT     4\n",
       "TADV    3\n",
       "PVOR    2\n",
       "PSLV    2\n",
       "SHL1    1\n",
       "SHL0    1\n",
       "SHMD    1\n",
       "dtype: int64"
      ]
     },
     "execution_count": 141,
     "metadata": {},
     "output_type": "execute_result"
    }
   ],
   "source": [
    "count_corrlists.sort_values(ascending=False)[:50] #4"
   ]
  },
  {
   "cell_type": "code",
   "execution_count": 75,
   "id": "60a54d81-d995-4223-9599-77dfab297655",
   "metadata": {},
   "outputs": [
    {
     "data": {
      "text/plain": [
       "POT     7\n",
       "pc20    5\n",
       "R001    5\n",
       "TWAC    5\n",
       "VPER    4\n",
       "G200    4\n",
       "PER     4\n",
       "EPOS    4\n",
       "VSHR    4\n",
       "T200    4\n",
       "R000    4\n",
       "SHGC    2\n",
       "LAT     2\n",
       "CSST    1\n",
       "SHDC    1\n",
       "dtype: int64"
      ]
     },
     "execution_count": 75,
     "metadata": {},
     "output_type": "execute_result"
    }
   ],
   "source": [
    "count_corrlists.sort_values(ascending=False)[:50] #8"
   ]
  },
  {
   "cell_type": "code",
   "execution_count": 103,
   "id": "77342a16-c6db-4fc0-a89b-538b87f261f3",
   "metadata": {},
   "outputs": [
    {
     "data": {
      "text/plain": [
       "MSLP    7\n",
       "POT     5\n",
       "SHGC    4\n",
       "EPOS    3\n",
       "pc20    3\n",
       "R001    2\n",
       "CSST    1\n",
       "SHMD    1\n",
       "G200    1\n",
       "SHDC    1\n",
       "POT2    1\n",
       "dtype: int64"
      ]
     },
     "execution_count": 103,
     "metadata": {},
     "output_type": "execute_result"
    }
   ],
   "source": [
    "count_corrlists.sort_values(ascending=False)[:50] #12"
   ]
  },
  {
   "cell_type": "code",
   "execution_count": 19,
   "id": "d40ac96d-931c-4c8e-bccf-1df2eacf8454",
   "metadata": {},
   "outputs": [
    {
     "data": {
      "text/plain": [
       "MSLP    7\n",
       "POT     5\n",
       "SHGC    3\n",
       "pc20    3\n",
       "EPOS    2\n",
       "SHMD    1\n",
       "SHDC    1\n",
       "dtype: int64"
      ]
     },
     "execution_count": 19,
     "metadata": {},
     "output_type": "execute_result"
    }
   ],
   "source": [
    "count_corrlists.sort_values(ascending=False)[:50] #16"
   ]
  },
  {
   "cell_type": "code",
   "execution_count": 44,
   "id": "22ef2fc8-772d-4a03-9b57-a8519d2e4d1a",
   "metadata": {},
   "outputs": [
    {
     "data": {
      "text/plain": [
       "POT     7\n",
       "MSLP    6\n",
       "EPOS    4\n",
       "pc20    4\n",
       "D200    2\n",
       "VPER    1\n",
       "LAT     1\n",
       "PVOR    1\n",
       "SHDC    1\n",
       "dtype: int64"
      ]
     },
     "execution_count": 44,
     "metadata": {},
     "output_type": "execute_result"
    }
   ],
   "source": [
    "count_corrlists.sort_values(ascending=False)[:50] #20"
   ]
  },
  {
   "cell_type": "code",
   "execution_count": null,
   "id": "a1ff55ec-1091-446e-affb-b94a6c2181ad",
   "metadata": {},
   "outputs": [],
   "source": []
  },
  {
   "cell_type": "code",
   "execution_count": null,
   "id": "00d85db3-59e4-46b5-b5eb-d4b4aaa90452",
   "metadata": {},
   "outputs": [],
   "source": []
  },
  {
   "cell_type": "code",
   "execution_count": 31,
   "id": "5b6c2344-0d1c-48ae-8d1b-31b43fd77ef9",
   "metadata": {},
   "outputs": [
    {
     "data": {
      "image/png": "[encoded data removed]",
      "text/plain": [
       "<Figure size 640x480 with 1 Axes>"
      ]
     },
     "metadata": {},
     "output_type": "display_data"
    }
   ],
   "source": [
    "i=3\n",
    "plt.plot(r2_train_corrFS[i])\n",
    "plt.plot(r2_valid_corrFS[i])\n",
    "plt.plot(shapez_causalFS[i],r2_valid_causalFS[i])\n",
    "plt.ylim(0,0.9)\n",
    "plt.show()"
   ]
  },
  {
   "cell_type": "code",
   "execution_count": 20,
   "id": "db36b407-9c01-4eb7-bc85-7e09f6e01c29",
   "metadata": {},
   "outputs": [],
   "source": [
    "import os\n",
    "save_dir= '/work/FAC/FGSE/IDYST/tbeucler/default/saranya/causal/ships_plus_new/results/16/XAI_shipsplus/'\n",
    "# List to store the loaded results\n",
    "score_corr = []\n",
    "\n",
    "# Load each pickle file and append to score_corr\n",
    "for seed in seeds:\n",
    "    file_path = os.path.join(save_dir, f'xai_results_fold_{seed}.pkl')\n",
    "    with open(file_path, 'rb') as f:\n",
    "        corr_results = pickle.load(f)\n",
    "        score_corr.append(corr_results)"
   ]
  },
  {
   "cell_type": "code",
   "execution_count": 21,
   "id": "eed23a59-6fc8-4780-9c5b-9c80998ef15d",
   "metadata": {},
   "outputs": [],
   "source": [
    "r2_train_XAIFS, r2_valid_XAIFS, r2_test_XAIFS = [],[],[]\n",
    "for i in range(len(score_corr)):\n",
    "    tempscore = score_corr[i]['scoreboard']\n",
    "    trains,valids,tests=[],[],[]\n",
    "    for j in range(len(tempscore)):\n",
    "        trains.append(tempscore[j]['train']['r2'])\n",
    "        valids.append(tempscore[j]['valid']['r2'])\n",
    "        tests.append(tempscore[j]['test']['r2'])\n",
    "    r2_train_XAIFS.append(trains)\n",
    "    r2_valid_XAIFS.append(valids)\n",
    "    r2_test_XAIFS.append(tests)"
   ]
  },
  {
   "cell_type": "code",
   "execution_count": 22,
   "id": "4b64b4ef-f655-4177-9c4b-c318c19dcf95",
   "metadata": {},
   "outputs": [],
   "source": [
    "xai_varlists = find_best_var_per_seed_XAI(r2_valid_XAIFS,score_corr)\n",
    "count_xailists = count_all_varlists(xai_varlists)"
   ]
  },
  {
   "cell_type": "code",
   "execution_count": 23,
   "id": "6d7acb54-0270-43c8-9568-bc0166f709e0",
   "metadata": {},
   "outputs": [
    {
     "data": {
      "text/plain": [
       "G200    6\n",
       "POT     5\n",
       "SHGC    3\n",
       "LAT     3\n",
       "SHMD    2\n",
       "CSST    2\n",
       "T250    2\n",
       "MSLP    1\n",
       "T200    1\n",
       "SHL0    1\n",
       "SHDC    1\n",
       "dtype: int64"
      ]
     },
     "execution_count": 23,
     "metadata": {},
     "output_type": "execute_result"
    }
   ],
   "source": [
    "count_xailists.sort_values(ascending=False)[:40] #4"
   ]
  },
  {
   "cell_type": "code",
   "execution_count": 79,
   "id": "65901a57-99d2-4038-aa34-e9f0d0bee64c",
   "metadata": {},
   "outputs": [
    {
     "data": {
      "text/plain": [
       "POT     7\n",
       "EPOS    6\n",
       "VPER    5\n",
       "pc20    5\n",
       "T250    4\n",
       "SHGC    4\n",
       "Z850    3\n",
       "PVOR    3\n",
       "T200    3\n",
       "CSST    1\n",
       "SHL0    1\n",
       "TWAC    1\n",
       "POT2    1\n",
       "LAT     1\n",
       "dtype: int64"
      ]
     },
     "execution_count": 79,
     "metadata": {},
     "output_type": "execute_result"
    }
   ],
   "source": [
    "count_xailists.sort_values(ascending=False)[:40] #8"
   ]
  },
  {
   "cell_type": "code",
   "execution_count": 24,
   "id": "6d437ec6-6c52-46c8-9b0f-04d26edd8a8c",
   "metadata": {},
   "outputs": [
    {
     "data": {
      "text/plain": [
       "G200    6\n",
       "POT     5\n",
       "SHGC    3\n",
       "LAT     3\n",
       "SHMD    2\n",
       "CSST    2\n",
       "T250    2\n",
       "MSLP    1\n",
       "T200    1\n",
       "SHL0    1\n",
       "SHDC    1\n",
       "dtype: int64"
      ]
     },
     "execution_count": 24,
     "metadata": {},
     "output_type": "execute_result"
    }
   ],
   "source": [
    "count_xailists.sort_values(ascending=False)[:40] #12"
   ]
  },
  {
   "cell_type": "code",
   "execution_count": null,
   "id": "84ad72fd-c096-4edf-815b-ee2b90feba0a",
   "metadata": {},
   "outputs": [],
   "source": []
  }
 ],
 "metadata": {
  "kernelspec": {
   "display_name": "Python 3 (ipykernel)",
   "language": "python",
   "name": "python3"
  },
  "language_info": {
   "codemirror_mode": {
    "name": "ipython",
    "version": 3
   },
   "file_extension": ".py",
   "mimetype": "text/x-python",
   "name": "python",
   "nbconvert_exporter": "python",
   "pygments_lexer": "ipython3",
   "version": "3.9.15"
  }
 },
 "nbformat": 4,
 "nbformat_minor": 5
}
