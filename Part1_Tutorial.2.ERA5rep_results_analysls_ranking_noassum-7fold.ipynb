{
 "cells": [
  {
   "cell_type": "code",
   "execution_count": 7,
   "id": "3a574145-b906-4f60-bf64-78c37bea1bc7",
   "metadata": {},
   "outputs": [],
   "source": [
    "from tqdm.auto import tqdm \n",
    "import pandas as pd\n",
    "import numpy as np\n",
    "import xarray as xr\n",
    "import netCDF4 as nf\n",
    "from netCDF4 import Dataset\n",
    "%matplotlib inline\n",
    "import glob\n",
    "import seaborn as sns\n",
    "import matplotlib.pyplot as plt\n",
    "import ast,gc,pickle\n",
    "from copy import deepcopy\n",
    "import os\n",
    "# Custom packages\n",
    "import read_config\n",
    "from util.data_process import read_vars, proc_dataset, miss\n",
    "from util.models import performance_scores,train_baseline,causal_settings,train_PC1"
   ]
  },
  {
   "cell_type": "code",
   "execution_count": 8,
   "id": "01913bbd-3794-4dbe-9aac-19564ad3162a",
   "metadata": {},
   "outputs": [],
   "source": [
    "# Read configuration file\n",
    "config_set = read_config.read_config()\n",
    "# Define Target\n",
    "if int(config_set['target_lag'])==20:\n",
    "    target='delv120'\n",
    "if int(config_set['target_lag'])==16:\n",
    "    target='delv96'\n",
    "if int(config_set['target_lag'])==12:\n",
    "    target='delv72'\n",
    "if int(config_set['target_lag'])==8:\n",
    "    target='delv48'\n",
    "if int(config_set['target_lag'])==4:\n",
    "    target='delv24'\n",
    "seeds = np.arange(0,7,1) #np.arange(100,131,1)"
   ]
  },
  {
   "cell_type": "code",
   "execution_count": 9,
   "id": "818427a5-9185-426e-8775-67de36c0095c",
   "metadata": {},
   "outputs": [
    {
     "data": {
      "text/plain": [
       "'delv24'"
      ]
     },
     "execution_count": 9,
     "metadata": {},
     "output_type": "execute_result"
    }
   ],
   "source": [
    "target"
   ]
  },
  {
   "cell_type": "markdown",
   "id": "f3b41e6e-c89c-4e3a-8fda-16b4c410d494",
   "metadata": {},
   "source": [
    "### This Turtorial script is for creating Figures 2 and 3 from the paper and analysing the results*.pkl files"
   ]
  },
  {
   "cell_type": "code",
   "execution_count": 10,
   "id": "5e1d552f-d1d5-4fa1-a891-fc472d474ae7",
   "metadata": {},
   "outputs": [],
   "source": [
    "var_names =  performance_scores.scores_seeds(seed=0,target=target,lag=int(config_set['target_lag']),exp='SHIPSERA5_noassum').read_stored()['var_names']"
   ]
  },
  {
   "cell_type": "code",
   "execution_count": 11,
   "id": "9b0af78e-716d-419a-944a-009d8a409f81",
   "metadata": {},
   "outputs": [
    {
     "data": {
      "text/plain": [
       "215"
      ]
     },
     "execution_count": 11,
     "metadata": {},
     "output_type": "execute_result"
    }
   ],
   "source": [
    "len(var_names)"
   ]
  },
  {
   "cell_type": "code",
   "execution_count": 12,
   "id": "645fa74d-53f8-4eb3-b884-a9542763bec2",
   "metadata": {
    "scrolled": true
   },
   "outputs": [
    {
     "data": {
      "text/plain": [
       "['delv24',\n",
       " 'pmin',\n",
       " 'wind10',\n",
       " 'out_t250',\n",
       " 'out_t200',\n",
       " 'spdx',\n",
       " 'out_mean_midrhum',\n",
       " 'POT',\n",
       " 'POT2',\n",
       " 'PER',\n",
       " 'VPER',\n",
       " 'SHDC',\n",
       " 'VSHR',\n",
       " 'LHRD',\n",
       " 'EPOS',\n",
       " 'clat',\n",
       " 'tadv',\n",
       " 'sdir',\n",
       " 'd200',\n",
       " 'z850',\n",
       " 'twnd850',\n",
       " 'div_100',\n",
       " 'div_250',\n",
       " 'div_300',\n",
       " 'div_400',\n",
       " 'div_500',\n",
       " 'div_700',\n",
       " 'div_850',\n",
       " 'div_1000',\n",
       " 'eqt1000',\n",
       " 'eqt300',\n",
       " 'eqt400',\n",
       " 'eqt500',\n",
       " 'eqt700',\n",
       " 'eqt850',\n",
       " 'sst',\n",
       " 'vort_100',\n",
       " 'vort_150',\n",
       " 'vort_200',\n",
       " 'vort_250',\n",
       " 'vort_300',\n",
       " 'vort_400',\n",
       " 'vort_500',\n",
       " 'vort_700',\n",
       " 'vort_1000',\n",
       " 'pvor_100',\n",
       " 'pvor_150',\n",
       " 'pvor_200',\n",
       " 'pvor_250',\n",
       " 'pvor_300',\n",
       " 'pvor_400',\n",
       " 'pvor_500',\n",
       " 'pvor_700',\n",
       " 'pvor_850',\n",
       " 'pvor_1000',\n",
       " 'rhum_100',\n",
       " 'rhum_150',\n",
       " 'rhum_200',\n",
       " 'rhum_250',\n",
       " 'rhum_300',\n",
       " 'rhum_400',\n",
       " 'rhum_850',\n",
       " 'rhum_1000',\n",
       " 'gpot_100',\n",
       " 'gpot_150',\n",
       " 'gpot_200',\n",
       " 'gpot_250',\n",
       " 'gpot_300',\n",
       " 'gpot_400',\n",
       " 'gpot_500',\n",
       " 'gpot_700',\n",
       " 'gpot_800',\n",
       " 'gpot_850',\n",
       " 'gpot_1000',\n",
       " 'temp_100',\n",
       " 'temp_150',\n",
       " 'temp_300',\n",
       " 'temp_400',\n",
       " 'temp_500',\n",
       " 'temp_700',\n",
       " 'temp_850',\n",
       " 'temp_1000',\n",
       " 'outdiv_100',\n",
       " 'outdiv_250',\n",
       " 'outdiv_300',\n",
       " 'outdiv_400',\n",
       " 'outdiv_500',\n",
       " 'outdiv_700',\n",
       " 'outdiv_850',\n",
       " 'outdiv_1000',\n",
       " 'outeqt1000',\n",
       " 'outeqt300',\n",
       " 'outeqt400',\n",
       " 'outeqt500',\n",
       " 'outeqt700',\n",
       " 'outeqt850',\n",
       " 'outsst',\n",
       " 'outvort_100',\n",
       " 'outvort_150',\n",
       " 'outvort_200',\n",
       " 'outvort_250',\n",
       " 'outvort_300',\n",
       " 'outvort_400',\n",
       " 'outvort_500',\n",
       " 'outvort_700',\n",
       " 'outvort_1000',\n",
       " 'outpvor_100',\n",
       " 'outpvor_150',\n",
       " 'outpvor_200',\n",
       " 'outpvor_250',\n",
       " 'outpvor_300',\n",
       " 'outpvor_400',\n",
       " 'outpvor_500',\n",
       " 'outpvor_700',\n",
       " 'outpvor_850',\n",
       " 'outpvor_1000',\n",
       " 'outrhum_100',\n",
       " 'outrhum_150',\n",
       " 'outrhum_200',\n",
       " 'outrhum_250',\n",
       " 'outrhum_300',\n",
       " 'outrhum_400',\n",
       " 'outrhum_850',\n",
       " 'outrhum_1000',\n",
       " 'outgpot_100',\n",
       " 'outgpot_150',\n",
       " 'outgpot_200',\n",
       " 'outgpot_250',\n",
       " 'outgpot_300',\n",
       " 'outgpot_400',\n",
       " 'outgpot_500',\n",
       " 'outgpot_700',\n",
       " 'outgpot_850',\n",
       " 'outgpot_1000',\n",
       " 'outtemp_100',\n",
       " 'outtemp_150',\n",
       " 'outtemp_300',\n",
       " 'outtemp_400',\n",
       " 'outtemp_500',\n",
       " 'outtemp_700',\n",
       " 'outtemp_850',\n",
       " 'outtemp_1000',\n",
       " 'shear_1000_200',\n",
       " 'shear_1000_300',\n",
       " 'shear_1000_500',\n",
       " 'shear_1000_700',\n",
       " 'shear_1000_850',\n",
       " 'shear_850_250',\n",
       " 'shear_850_300',\n",
       " 'shear_850_500',\n",
       " 'shear_1000_200.1',\n",
       " 'shear_1000_300.1',\n",
       " 'shear_1000_500.1',\n",
       " 'shear_1000_700.1',\n",
       " 'shear_1000_850.1',\n",
       " 'shear_850_250.1',\n",
       " 'shear_850_300.1',\n",
       " 'shear_850_500.1',\n",
       " 'tgrad_0_500',\n",
       " 'tgrad_200_800',\n",
       " 'pwat_0_200',\n",
       " 'pwat_200_400',\n",
       " 'pwat_400_600',\n",
       " 'pwat_600_800',\n",
       " 'pwat_800_1000',\n",
       " 'div_0_1000_100',\n",
       " 'div_0_1000_150',\n",
       " 'div_0_1000_200',\n",
       " 'div_0_1000_250',\n",
       " 'div_0_1000_300',\n",
       " 'div_0_1000_400',\n",
       " 'div_0_1000_500',\n",
       " 'div_0_1000_700',\n",
       " 'div_0_1000_850',\n",
       " 'div_0_1000_1000',\n",
       " 'vort_0_1000_100',\n",
       " 'vort_0_1000_150',\n",
       " 'vort_0_1000_200',\n",
       " 'vort_0_1000_250',\n",
       " 'vort_0_1000_300',\n",
       " 'vort_0_1000_400',\n",
       " 'vort_0_1000_500',\n",
       " 'vort_0_1000_700',\n",
       " 'vort_0_1000_850',\n",
       " 'vort_0_1000_1000',\n",
       " 'geop_0_1000_100',\n",
       " 'geop_0_1000_150',\n",
       " 'geop_0_1000_200',\n",
       " 'geop_0_1000_250',\n",
       " 'geop_0_1000_300',\n",
       " 'geop_0_1000_400',\n",
       " 'geop_0_1000_500',\n",
       " 'geop_0_1000_700',\n",
       " 'geop_0_1000_850',\n",
       " 'geop_0_1000_1000',\n",
       " 'rh_0_500_100',\n",
       " 'rh_0_500_150',\n",
       " 'rh_0_500_200',\n",
       " 'rh_0_500_250',\n",
       " 'rh_0_500_300',\n",
       " 'rh_0_500_400',\n",
       " 'rh_0_500_500',\n",
       " 'rh_0_500_700',\n",
       " 'rh_0_500_850',\n",
       " 'rh_0_500_1000',\n",
       " 'tanom100',\n",
       " 'tanom150',\n",
       " 'tanom200',\n",
       " 'tanom250',\n",
       " 'tanom300',\n",
       " 'tanom400',\n",
       " 'tanom500',\n",
       " 'tanom700',\n",
       " 'tanom850',\n",
       " 'tanom1000']"
      ]
     },
     "execution_count": 12,
     "metadata": {},
     "output_type": "execute_result"
    }
   ],
   "source": [
    "list(var_names)"
   ]
  },
  {
   "cell_type": "markdown",
   "id": "b41c3745-e315-4053-a0c7-79263e25a02b",
   "metadata": {},
   "source": [
    "# With causal"
   ]
  },
  {
   "cell_type": "code",
   "execution_count": 13,
   "id": "1bed94ae-1b49-4228-a5b6-ebc75ccbaf73",
   "metadata": {},
   "outputs": [
    {
     "data": {
      "application/vnd.jupyter.widget-view+json": {
       "model_id": "e9479b79f55a462185cb10cceff4f0e2",
       "version_major": 2,
       "version_minor": 0
      },
      "text/plain": [
       "  0%|          | 0/7 [00:00<?, ?it/s]"
      ]
     },
     "metadata": {},
     "output_type": "display_data"
    }
   ],
   "source": [
    "score_causal = []\n",
    "for seed in tqdm(seeds):\n",
    "    causal_results = performance_scores.scores_seeds(seed=seed,\n",
    "                                                     target=target,\n",
    "                                                     lag=int(config_set['target_lag']),\n",
    "                                                     exp='SHIPSERA5_noassum').run_score_causalFS()\n",
    "    score_causal.append(causal_results)\n",
    "    del causal_results\n",
    "    gc.collect()"
   ]
  },
  {
   "cell_type": "code",
   "execution_count": 14,
   "id": "31ef9317-7df6-4abb-b7fe-bb5381694b25",
   "metadata": {},
   "outputs": [],
   "source": [
    "r2_train_causalFS, r2_valid_causalFS, r2_test_causalFS, shapez_causalFS = [],[],[],[]\n",
    "for i in range(len(score_causal)):\n",
    "    r2_train_causalFS.append([(score_causal[i][j]['scoreboard']['train']['r2']) for j in range(len(score_causal[i]))])\n",
    "    r2_valid_causalFS.append([(score_causal[i][j]['scoreboard']['valid']['r2']) for j in range(len(score_causal[i]))])\n",
    "    r2_test_causalFS.append([(score_causal[i][j]['scoreboard']['test']['r2']) for j in range(len(score_causal[i]))])\n",
    "    shapez_causalFS.append([(score_causal[i][j]['X']['test'].shape[1]) for j in range(len(score_causal[i]))])"
   ]
  },
  {
   "cell_type": "code",
   "execution_count": 19,
   "id": "fee758ae-4c39-4fee-aa47-196a267987d5",
   "metadata": {},
   "outputs": [],
   "source": [
    "alpha_levels = [0.0001, 0.00015 ,0.001,0.0015,0.01,0.02,0.03,0.04,0.05,0.06,0.07,0.08,0.09,0.1,\n",
    "                          0.15,0.2,0.25,0.3,0.35,0.4,0.45,0.5,0.55,0.6]\n",
    "expname='SHIPS_noassumptions+ERA5'"
   ]
  },
  {
   "cell_type": "markdown",
   "id": "c94012ca-3062-4b32-b654-31d90131e22d",
   "metadata": {},
   "source": [
    "## Figure 2"
   ]
  },
  {
   "cell_type": "code",
   "execution_count": 20,
   "id": "64a84696-6351-4231-bcf8-98ef6b2d9e13",
   "metadata": {},
   "outputs": [
    {
     "name": "stdout",
     "output_type": "stream",
     "text": [
      "Best fold (highest max valid R²): 0 with R² = 0.1955\n"
     ]
    }
   ],
   "source": [
    "num_folds = len(score_causal)\n",
    "num_alphas = len(score_causal[0])\n",
    "\n",
    "r2_valid = np.zeros((num_folds, num_alphas))\n",
    "for fold_idx, fold_result in enumerate(score_causal):\n",
    "    for alpha_idx, result in enumerate(fold_result):\n",
    "        sb = result['scoreboard']\n",
    "        r2_valid[fold_idx, alpha_idx] = sb['valid']['r2']\n",
    "\n",
    "best_fold_idx = np.argmax(np.max(r2_valid, axis=1))\n",
    "best_r2 = np.max(r2_valid[best_fold_idx])\n",
    "print(f\"Best fold (highest max valid R²): {best_fold_idx} with R² = {best_r2:.4f}\")\n"
   ]
  },
  {
   "cell_type": "markdown",
   "id": "d2e3279e-89f5-4b99-8be8-34516357cdd1",
   "metadata": {},
   "source": [
    "#### Example of feature selection behavior across PC significance thresholds in one cross-validation fold.\n",
    "\n",
    "Panel A: R² values for train (blue), validation (green), and test (red) datasets as a function of the number of selected variables. The vertical dashed line marks the point with the best validation R².\n",
    "\n",
    "Panel B: “Abacus” plot showing which variables are selected at different thresholds. Each row corresponds to a variable, with colors indicating physical groupings (e.g., SHIPS predictors, shear, humidity, temperature, geopotential, vorticity). Highlighted markers indicate variables consistently identified as important across settings.\n",
    "\n",
    "Extra axis: The secondary x-axis connects the number of selected predictors to the corresponding pc_alpha values, directly linking statistical significance thresholds to predictor set size.\n",
    "\n",
    "Together, the panels and axis illustrate how causal feature selection balances predictive skill (Panel A), variable inclusion patterns (Panel B), and the statistical testing level (pc_alpha). This highlights both robust predictors and the sensitivity of selection to the independence test."
   ]
  },
  {
   "cell_type": "code",
   "execution_count": 21,
   "id": "feff6afe-a805-4812-af24-567f09bc2a77",
   "metadata": {},
   "outputs": [],
   "source": [
    "import os\n",
    "import numpy as np\n",
    "import matplotlib.pyplot as plt\n",
    "from matplotlib import gridspec\n",
    "from collections import defaultdict\n",
    "import matplotlib.ticker as mticker\n",
    "\n",
    "plt.rcParams['font.family'] = 'serif'\n",
    "plt.rcParams['font.serif'] = ['Nimbus Roman', 'Times', 'C059-Roman', 'P052-Roman', 'DejaVu Serif']\n",
    "plt.rcParams['mathtext.fontset'] = 'stix'\n",
    "\n",
    "def assign_group(var):\n",
    "    var = var.lower()\n",
    "    ships_vars = {\n",
    "        'pmin', 'wind10', 'out_t250', 'out_t200', 'spdx', 'out_mean_midrhum',\n",
    "        'pot', 'pot2', 'per', 'vper', 'shdc', 'vshr', 'lhrd', 'epos',\n",
    "        'clat', 'tadv', 'sdir', 'd200', 'z850', 'twnd850'\n",
    "    }\n",
    "    if var in ships_vars:\n",
    "        return 'SHIPS'\n",
    "    elif var.startswith('shear'):\n",
    "        return 'Shear'\n",
    "    elif 'rhum' in var or 'rh_' in var or 'rh' in var:\n",
    "        return 'Humidity'\n",
    "    elif 'temp' in var or 'tanom' in var or 'tgrad' in var or 'eqt' in var:\n",
    "        return 'Temperature'\n",
    "    elif 'gpot' in var or 'geop' in var:\n",
    "        return 'Geopotential'\n",
    "    elif 'vort' in var or 'pvor' in var or 'outpvor' in var or 'outvort' in var:\n",
    "        return 'Vorticity'\n",
    "    else:\n",
    "        return 'Other'\n",
    "\n",
    "group_colors = {\n",
    "    'SHIPS':      '#2A5D8F',\n",
    "    'Shear':      '#bcbd22',\n",
    "    'Humidity':   '#00BFFF',\n",
    "    'Temperature':'#B03060',\n",
    "    'Geopotential':'#9467BD',\n",
    "    'Vorticity':  '#3B7A57',\n",
    "    'Other':      '#A6761D'\n",
    "}\n",
    "\n",
    "best_vars = {\n",
    "    \"shear_1000_850\",\n",
    "    \"outrhum_1000\",\n",
    "    \"shear_850_300\",\n",
    "    \"rh_0_500_1000\",\n",
    "    \"shear_1000_850.1\",\n",
    "    \"outpvor_500\"\n",
    "}\n",
    "\n",
    "def rank_variables_by_importance(score_causal, fold_idx):\n",
    "    var_scores = defaultdict(list)\n",
    "    num_alphas = len(score_causal[fold_idx])\n",
    "    for alpha_idx in range(num_alphas):\n",
    "        corrrank = score_causal[fold_idx][alpha_idx]['corrrank']\n",
    "        n = len(corrrank)\n",
    "        for i, var in enumerate(corrrank):\n",
    "            importance = n - i\n",
    "            var_scores[var].append(importance)\n",
    "    avg_scores = {var: np.mean(scores) for var, scores in var_scores.items()}\n",
    "    sorted_vars = sorted(avg_scores.items(), key=lambda x: -x[1])\n",
    "    return [var for var, _ in sorted_vars]\n",
    "\n",
    "def get_varlist_lengths(score_causal, fold_idx):\n",
    "    num_alphas = len(score_causal[fold_idx])\n",
    "    var_counts = np.zeros(num_alphas, dtype=int)\n",
    "    for alpha_idx, result in enumerate(score_causal[fold_idx]):\n",
    "        varlist = result['corrrank']\n",
    "        var_counts[alpha_idx] = len(varlist)\n",
    "    return var_counts\n",
    "\n",
    "def plot_one_fold_with_abacus(score_causal, alpha_levels, target_name, experiment_name, fold_idx=None):\n",
    "    os.makedirs(\"figures\", exist_ok=True)\n",
    "\n",
    "    num_folds = len(score_causal)\n",
    "    num_alphas = len(score_causal[0])\n",
    "\n",
    "    # Select best fold if not provided\n",
    "    r2_valid = np.zeros((num_folds, num_alphas))\n",
    "    for f in range(num_folds):\n",
    "        for a in range(num_alphas):\n",
    "            r2_valid[f, a] = score_causal[f][a]['scoreboard']['valid']['r2']\n",
    "    if fold_idx is None:\n",
    "        fold_idx = np.argmax(np.max(r2_valid, axis=1))\n",
    "    print(f\"Plotting fold: {fold_idx}\")\n",
    "\n",
    "    num_vars_list = get_varlist_lengths(score_causal, fold_idx)\n",
    "    print(\"num_vars_list:\", num_vars_list)\n",
    "\n",
    "    r2_train = []\n",
    "    r2_valid_fold = []\n",
    "    r2_test = []\n",
    "    for a in range(num_alphas):\n",
    "        sb = score_causal[fold_idx][a]['scoreboard']\n",
    "        r2_train.append(sb['train']['r2'])\n",
    "        r2_valid_fold.append(sb['valid']['r2'])\n",
    "        r2_test.append(sb['test']['r2'])\n",
    "\n",
    "    best_valid_idx = np.argmax(r2_valid_fold)\n",
    "    best_num_vars = num_vars_list[best_valid_idx]\n",
    "\n",
    "    ranked_vars = rank_variables_by_importance(score_causal, fold_idx)\n",
    "    ordered_vars = []\n",
    "    seen = set()\n",
    "    for a in range(num_alphas):\n",
    "        for v in score_causal[fold_idx][a]['corrrank']:\n",
    "            if v not in seen:\n",
    "                ordered_vars.append(v)\n",
    "                seen.add(v)\n",
    "    ranked_vars = [v for v in ordered_vars if v in ranked_vars]\n",
    "    var_colors = {v: group_colors.get(assign_group(v), 'grey') for v in ranked_vars}\n",
    "\n",
    "    fig = plt.figure(figsize=(13, 17))\n",
    "    gs = gridspec.GridSpec(3, 1, height_ratios=[3, 6, 1], hspace=0.15)\n",
    "    ax1 = fig.add_subplot(gs[0])\n",
    "    ax2 = fig.add_subplot(gs[1], sharex=ax1)\n",
    "    ax3 = fig.add_subplot(gs[2], sharex=ax1)\n",
    "\n",
    "    # === Panel A: R² Curves ===\n",
    "    ax1.plot(num_vars_list, r2_train, '-o', color='blue', label='Train')\n",
    "    ax1.plot(num_vars_list, r2_valid_fold, '-o', color='green', label='Validation')\n",
    "    ax1.plot(num_vars_list, r2_test, '-o', color='red', label='Test')\n",
    "    ax1.axvline(best_num_vars, color='purple', linestyle='--', lw=1.8, label='Best Valid R²')\n",
    "    ax1.set_ylabel('R²')\n",
    "    ax1.set_ylim(0.1, 0.2)\n",
    "    ax1.legend(title=f'Fold {fold_idx}')\n",
    "    ax1.grid(True, linestyle=':', alpha=0.5)\n",
    "\n",
    "    # === Panel B: Variable Abacus ===\n",
    "    for i, var in enumerate(ranked_vars):\n",
    "        y_offset = (i + 1) * 0.7\n",
    "        for a in range(num_alphas):\n",
    "            if var in score_causal[fold_idx][a]['corrrank']:\n",
    "                x = num_vars_list[a]\n",
    "                ax2.plot(x, y_offset, 'o', color=var_colors[var], markersize=7, alpha=0.8)\n",
    "                if var in best_vars:\n",
    "                    ax2.plot(x, y_offset, 'o', markerfacecolor='none', markeredgecolor='black',\n",
    "                             markeredgewidth=1.8, markersize=7)\n",
    "        ax2.text(max(num_vars_list) + 1, y_offset, var, va='center',\n",
    "                 fontsize=10, fontweight='bold', color=var_colors[var])\n",
    "    ax2.axvline(best_num_vars, color='purple', linestyle='--', lw=1.8)\n",
    "    ax2.set_yticklabels([])\n",
    "    ax2.grid(False)\n",
    "\n",
    "    # Add legend handles for variable groups here:\n",
    "    group_set = sorted(set(assign_group(v) for v in ranked_vars))\n",
    "    handles = [\n",
    "        plt.Line2D([0], [0], marker='o', color='w', label=g,\n",
    "                   markerfacecolor=group_colors[g], markersize=8)\n",
    "        for g in group_set\n",
    "    ]\n",
    "    ax2.legend(handles=handles, loc='upper left', fontsize=10, title='Variable Groups', title_fontsize=12)\n",
    "\n",
    "    # === Panel C: pc_alpha values ===\n",
    "    var_to_alpha = {}\n",
    "    for a, alpha_val in enumerate(alpha_levels):\n",
    "        x = num_vars_list[a]\n",
    "        if (x not in var_to_alpha) or (alpha_val > var_to_alpha[x]):\n",
    "            var_to_alpha[x] = alpha_val\n",
    "    for x, alpha_val in sorted(var_to_alpha.items()):\n",
    "        ax3.plot(x, 0, 's', color='black', markersize=8)\n",
    "        ax3.text(x, 0.3, f'{alpha_val:.3g}', ha='center', fontsize=9, rotation=45)\n",
    "    ax3.set_ylim(-1, 0.5)\n",
    "    ax3.axis('off')\n",
    "    ax3.set_title('pc_alpha values w.r.t Number of Variables')\n",
    "\n",
    "    # Flexible xlim for all panels\n",
    "    x_min = min(num_vars_list)\n",
    "    x_max = max(num_vars_list)\n",
    "    for ax in [ax1, ax2, ax3]:\n",
    "        ax.set_xlim([x_min - 1, x_max + 4.8])\n",
    "        tick_step = 2\n",
    "        start_tick = int(np.floor(x_min / tick_step) * tick_step)\n",
    "        end_tick = int(np.ceil(x_max / tick_step) * tick_step)\n",
    "        ax.set_xticks(range(start_tick, end_tick + tick_step, tick_step))\n",
    "        ax.xaxis.set_major_formatter(mticker.FormatStrFormatter('%d'))\n",
    "\n",
    "    fig.subplots_adjust(left=0.1, right=0.95, top=0.93, bottom=0.12)\n",
    "    outpath = f\"figures/{target_name}_{experiment_name}_fold{fold_idx}_R2_abacus_pcalpha.png\"\n",
    "    plt.savefig(outpath, dpi=300)\n",
    "    plt.close()\n",
    "    print(f\"Saved: {outpath}\")\n"
   ]
  },
  {
   "cell_type": "code",
   "execution_count": 22,
   "id": "8ef66cb9-b546-45e0-88ae-1f68c4597804",
   "metadata": {},
   "outputs": [
    {
     "name": "stdout",
     "output_type": "stream",
     "text": [
      "Plotting fold: 3\n",
      "num_vars_list: [ 5  5  5  5  7  8  8 10 11 11 11 11 12 13 13 14 14 15 16 18 19 19 22 23]\n",
      "Saved: figures/DELV24_SHIPS_noassumptionERA5_fold3_R2_abacus_pcalpha.png\n"
     ]
    }
   ],
   "source": [
    "plot_one_fold_with_abacus(score_causal, alpha_levels,target_name='DELV24',experiment_name='SHIPS_noassumptionERA5',fold_idx=3)"
   ]
  },
  {
   "cell_type": "markdown",
   "id": "4e7c993f-739e-4325-9bb7-fb08e38fbf6e",
   "metadata": {},
   "source": [
    "## FIgure 3a"
   ]
  },
  {
   "cell_type": "markdown",
   "id": "dd5690e0-ecb2-4d0f-810b-cb3d8f1a8aee",
   "metadata": {},
   "source": [
    "#### Variable Ranking Across Folds\n",
    "\n",
    "This bar plot shows how often each predictor (excluding standard SHIPS variables) is selected across folds at the best pc_alpha. Taller bars indicate variables consistently chosen, with the red dashed line marking a cutoff of ≥3 folds to highlight robust predictors."
   ]
  },
  {
   "cell_type": "code",
   "execution_count": 23,
   "id": "d52acbad-685a-4fd9-81df-21c6130f76a3",
   "metadata": {},
   "outputs": [],
   "source": [
    "import matplotlib.pyplot as plt\n",
    "from collections import Counter\n",
    "import os\n",
    "\n",
    "# === AMS-style serif font ===\n",
    "plt.rcParams['font.family'] = 'serif'\n",
    "plt.rcParams['font.serif'] = ['Nimbus Roman', 'Times', 'C059-Roman', 'P052-Roman', 'DejaVu Serif']\n",
    "plt.rcParams['mathtext.fontset'] = 'stix'\n",
    "\n",
    "def plot_union_variable_counts(score_causal, alpha_levels, target_name, experiment_name):\n",
    "    excluded_vars = set([\n",
    "        'DELV24', 'pmin', 'wind10', 'out_t250', 'out_t200', 'spdx',\n",
    "        'out_mean_midrhum', 'POT', 'POT2', 'PER', 'VPER', 'SHDC',\n",
    "        'VSHR', 'LHRD', 'EPOS', 'clat', 'tadv', 'sdir', 'd200',\n",
    "        'z850', 'twnd850',\n",
    "    ])\n",
    "\n",
    "    num_folds = len(score_causal)\n",
    "    best_vars_per_fold = []\n",
    "\n",
    "    for fold_idx in range(num_folds):\n",
    "        num_alphas = len(score_causal[fold_idx])\n",
    "        best_alpha_idx = max(range(num_alphas), key=lambda a: score_causal[fold_idx][a]['scoreboard']['valid']['r2'])\n",
    "        best_vars = set(score_causal[fold_idx][best_alpha_idx]['corrrank'])\n",
    "        filtered_vars = best_vars - excluded_vars\n",
    "        best_vars_per_fold.append(filtered_vars)\n",
    "\n",
    "    all_vars = set.union(*best_vars_per_fold)\n",
    "\n",
    "    var_fold_counts = Counter()\n",
    "    for var in all_vars:\n",
    "        count = sum(var in fold_vars for fold_vars in best_vars_per_fold)\n",
    "        var_fold_counts[var] = count\n",
    "\n",
    "    # Filter out variables with counts < 2\n",
    "    filtered_counts = {var: count for var, count in var_fold_counts.items() if count >= 2}\n",
    "    if not filtered_counts:\n",
    "        print(\"No variables with count >= 2 to plot.\")\n",
    "        return\n",
    "\n",
    "    sorted_vars = sorted(filtered_counts.items(), key=lambda x: (-x[1], x[0]))\n",
    "    vars_list, counts = zip(*sorted_vars)\n",
    "\n",
    "    # Very light color mapping for fold counts\n",
    "    count_color_map = {\n",
    "        7: '#B3E5FC',   # Very light cyan\n",
    "        6: '#ADD8E6',   # Light blue\n",
    "        5: '#B0C4DE',   # Light steel blue\n",
    "        4: '#D3D3F3',   # Very light pastel blue\n",
    "        3: '#E6E6FA',   # Lavender\n",
    "        2: '#FFDDEE',   # Light pink\n",
    "        1: '#FFE4E1',   # Misty rose\n",
    "    }\n",
    "    bar_colors = [count_color_map.get(count, '#DDDDDD') for count in counts]  # default light gray\n",
    "\n",
    "    fig, ax = plt.subplots(figsize=(max(10, len(vars_list)*0.6), 6))\n",
    "    bars = ax.bar(range(len(vars_list)), counts, color=bar_colors, edgecolor='grey')\n",
    "\n",
    "    # Hide x-axis tick labels\n",
    "    ax.set_xticks(range(len(vars_list)))\n",
    "    ax.set_xticklabels([])\n",
    "\n",
    "    # Axis labels\n",
    "    ax.set_ylabel('Number of Folds', fontsize=16)\n",
    "    ax.set_xlabel('Variables (Union of best pc_alpha per fold, excluding SHIPS)', fontsize=16)\n",
    "\n",
    "    # Annotate variable names inside bars, vertically\n",
    "    for bar, var in zip(bars, vars_list):\n",
    "        height = bar.get_height()\n",
    "        ax.text(\n",
    "            bar.get_x() + bar.get_width()/2,\n",
    "            height/2,                    # Middle of the bar\n",
    "            var,                          # Variable name\n",
    "            ha='center', va='center',\n",
    "            fontsize=13, fontweight='bold', rotation=90, color='black'\n",
    "        )\n",
    "\n",
    "    # Horizontal cutoff line\n",
    "    ax.axhline(y=3, color='red', linestyle='--', linewidth=1.5, label='Selection cutoff: > 3 folds')\n",
    "    ax.legend(fontsize=14)\n",
    "\n",
    "    ax.set_ylim(0, num_folds + 0.5)\n",
    "    ax.grid(axis='y', linestyle='--', alpha=0.6)\n",
    "\n",
    "    plt.tight_layout()\n",
    "\n",
    "    savepath = f\"figures/{target_name}_{experiment_name}_variable_fold_counts_barplot.png\"\n",
    "    os.makedirs(os.path.dirname(savepath), exist_ok=True)\n",
    "    plt.savefig(savepath, dpi=300)\n",
    "    plt.close()\n",
    "    print(f\"Saved bar plot: {savepath}\")\n"
   ]
  },
  {
   "cell_type": "code",
   "execution_count": 24,
   "id": "e00f8345-87ac-4773-ba35-14c6bf6e1aa5",
   "metadata": {},
   "outputs": [
    {
     "name": "stdout",
     "output_type": "stream",
     "text": [
      "Saved bar plot: figures/DELV24_SHIPS_noassumption_ERA5_variable_fold_counts_barplot.png\n"
     ]
    }
   ],
   "source": [
    "plot_union_variable_counts(score_causal, alpha_levels, target_name='DELV24', experiment_name='SHIPS_noassumption_ERA5')"
   ]
  },
  {
   "cell_type": "markdown",
   "id": "aefb12bd-dea9-4526-b192-4f495bb16f59",
   "metadata": {},
   "source": [
    "## Find variable Ranking"
   ]
  },
  {
   "cell_type": "markdown",
   "id": "a2b130c1-bd6b-492a-bbfe-5de4f3f61f06",
   "metadata": {},
   "source": [
    "#### Finding Variable Rankings Across Feature Selection Methods\n",
    "\n",
    "For each feature selection method (Causal PC1, correlation-based, or XAI-based), we identify the best set of variables per fold using the R²-maximizing configuration.\n",
    "\n",
    "find_best_var_per_seed_causal extracts the top variables from the causal PC1 results.\n",
    "\n",
    "find_best_var_per_seed_corrXAI and find_best_var_per_seed_XAI extract top predictors from correlation-based and XAI-based rankings, respectively.\n",
    "\n",
    "count_all_varlists aggregates the variable lists across folds, computing how often each variable is selected.\n",
    "\n",
    "This gives a fold-robust ranking of predictors for each feature selection method."
   ]
  },
  {
   "cell_type": "code",
   "execution_count": 29,
   "id": "b678c9a0-41a1-4ab0-809b-939d5e3436a2",
   "metadata": {},
   "outputs": [],
   "source": [
    "def find_best_var_per_seed_causal(r2,score_causal):\n",
    "    causal_varlists = []\n",
    "    for i in range(len(score_causal)):\n",
    "        causal_varlists.append(score_causal[i][np.asarray(r2[i]).argmax()]['corrrank'])\n",
    "    return causal_varlists\n",
    "\n",
    "def find_best_var_per_seed_corrXAI(r2,score_corr):\n",
    "    corr_varlists = []\n",
    "    for i in range(len(score_corr)):\n",
    "        corr_varlists.append(score_correlation[i]['corrrank'].sort_values(ascending=False).index[0:np.asarray(r2[i]).argmax()+1])\n",
    "    return corr_varlists\n",
    "\n",
    "def find_best_var_per_seed_XAI(r2,score_corr):\n",
    "    corr_varlists = []\n",
    "    for i in range(len(score_corr)):\n",
    "        corr_varlists.append(score_corr[i]['XAIrank'].sort_values(ascending=False).index[0:np.asarray(r2[i]).argmax()+1])\n",
    "    return corr_varlists\n",
    "\n",
    "def count_all_varlists(varlists):\n",
    "    from collections import Counter\n",
    "    from functools import reduce\n",
    "    freq = list(map(Counter, varlists)) \n",
    "    res = {ele: [cnt[ele] for cnt in freq] for ele in {ele for cnt in freq for ele in cnt}}\n",
    "    \n",
    "    dict1 = res\n",
    "    for k, v in dict1.items():\n",
    "        dict1[k] = reduce(lambda a, b: a+b, v)\n",
    "    return pd.Series((dict1))"
   ]
  },
  {
   "cell_type": "code",
   "execution_count": 30,
   "id": "9ed2e3d8-c7e1-494a-87cb-b6b6db0f6e37",
   "metadata": {},
   "outputs": [],
   "source": [
    "causal_varlists = find_best_var_per_seed_causal(r2_valid_causalFS,score_causal)\n",
    "count_causallists = count_all_varlists(causal_varlists)"
   ]
  },
  {
   "cell_type": "code",
   "execution_count": 31,
   "id": "0b832450-f5de-4034-9bc9-3b90f1f4567d",
   "metadata": {},
   "outputs": [],
   "source": [
    "bestvars=count_causallists.sort_values(ascending=False)[:40] #4"
   ]
  },
  {
   "cell_type": "code",
   "execution_count": 32,
   "id": "ad6b7870-c1aa-4c76-9843-eef7acd27cd6",
   "metadata": {},
   "outputs": [
    {
     "data": {
      "text/plain": [
       "wind10              7\n",
       "sdir                7\n",
       "tadv                7\n",
       "outrhum_1000        7\n",
       "outtemp_150         6\n",
       "z850                5\n",
       "rh_0_500_1000       5\n",
       "shear_1000_850.1    5\n",
       "div_100             3\n",
       "pvor_850            3\n",
       "vort_1000           3\n",
       "tgrad_200_800       3\n",
       "out_mean_midrhum    3\n",
       "shear_1000_850      3\n",
       "rhum_300            3\n",
       "shear_1000_300      3\n",
       "div_1000            3\n",
       "div_400             2\n",
       "shear_1000_200.1    2\n",
       "tanom250            2\n",
       "LHRD                2\n",
       "shear_850_300       2\n",
       "vort_700            2\n",
       "vort_500            2\n",
       "eqt850              2\n",
       "outtemp_500         2\n",
       "div_0_1000_150      2\n",
       "vort_200            1\n",
       "rhum_150            1\n",
       "rh_0_500_400        1\n",
       "outgpot_400         1\n",
       "outrhum_100         1\n",
       "shear_1000_500      1\n",
       "outdiv_300          1\n",
       "div_250             1\n",
       "div_850             1\n",
       "pvor_700            1\n",
       "shear_850_250.1     1\n",
       "outgpot_850         1\n",
       "pvor_1000           1\n",
       "dtype: int64"
      ]
     },
     "execution_count": 32,
     "metadata": {},
     "output_type": "execute_result"
    }
   ],
   "source": [
    "count_causallists.sort_values(ascending=False)[:40] #12"
   ]
  },
  {
   "cell_type": "code",
   "execution_count": 33,
   "id": "4550ea8a-1550-418f-9482-3ce3dee57d2e",
   "metadata": {},
   "outputs": [
    {
     "data": {
      "text/plain": [
       "wind10              7\n",
       "sdir                7\n",
       "tadv                7\n",
       "outrhum_1000        7\n",
       "outtemp_150         6\n",
       "z850                5\n",
       "rh_0_500_1000       5\n",
       "shear_1000_850.1    5\n",
       "div_100             3\n",
       "pvor_850            3\n",
       "vort_1000           3\n",
       "tgrad_200_800       3\n",
       "out_mean_midrhum    3\n",
       "shear_1000_850      3\n",
       "rhum_300            3\n",
       "shear_1000_300      3\n",
       "div_1000            3\n",
       "div_400             2\n",
       "shear_1000_200.1    2\n",
       "tanom250            2\n",
       "LHRD                2\n",
       "shear_850_300       2\n",
       "vort_700            2\n",
       "vort_500            2\n",
       "eqt850              2\n",
       "outtemp_500         2\n",
       "div_0_1000_150      2\n",
       "vort_200            1\n",
       "rhum_150            1\n",
       "rh_0_500_400        1\n",
       "outgpot_400         1\n",
       "outrhum_100         1\n",
       "shear_1000_500      1\n",
       "outdiv_300          1\n",
       "div_250             1\n",
       "div_850             1\n",
       "pvor_700            1\n",
       "shear_850_250.1     1\n",
       "outgpot_850         1\n",
       "pvor_1000           1\n",
       "dtype: int64"
      ]
     },
     "execution_count": 33,
     "metadata": {},
     "output_type": "execute_result"
    }
   ],
   "source": [
    "count_causallists.sort_values(ascending=False)[:40] #8"
   ]
  },
  {
   "cell_type": "code",
   "execution_count": 35,
   "id": "5fee37ed-aae7-4e99-8687-18c2e3711ab0",
   "metadata": {},
   "outputs": [],
   "source": [
    "import os\n",
    "save_dir= '../2024_causalML_results/results/4/XAI_noassum/'\n",
    "# List to store the loaded results\n",
    "score_corr = []\n",
    "\n",
    "# Load each pickle file and append to score_corr\n",
    "for seed in seeds:\n",
    "    file_path = os.path.join(save_dir, f'xai_results_fold_{seed}.pkl')\n",
    "    with open(file_path, 'rb') as f:\n",
    "        corr_results = pickle.load(f)\n",
    "        score_corr.append(corr_results)"
   ]
  },
  {
   "cell_type": "code",
   "execution_count": 36,
   "id": "8657efe3-0e45-4b1b-bc05-e529f33e44d1",
   "metadata": {},
   "outputs": [],
   "source": [
    "r2_train_XAIFS, r2_valid_XAIFS, r2_test_XAIFS = [],[],[]\n",
    "for i in range(len(score_corr)):\n",
    "    tempscore = score_corr[i]['scoreboard']\n",
    "    trains,valids,tests=[],[],[]\n",
    "    for j in range(len(tempscore)):\n",
    "        trains.append(tempscore[j]['train']['r2'])\n",
    "        valids.append(tempscore[j]['valid']['r2'])\n",
    "        tests.append(tempscore[j]['test']['r2'])\n",
    "    r2_train_XAIFS.append(trains)\n",
    "    r2_valid_XAIFS.append(valids)\n",
    "    r2_test_XAIFS.append(tests)"
   ]
  },
  {
   "cell_type": "code",
   "execution_count": 37,
   "id": "bcbfb1e3-79ab-43c5-94c8-017388c4a8d5",
   "metadata": {},
   "outputs": [],
   "source": [
    "xai_varlists = find_best_var_per_seed_XAI(r2_valid_XAIFS,score_corr)\n",
    "count_xailists = count_all_varlists(xai_varlists)"
   ]
  },
  {
   "cell_type": "code",
   "execution_count": 38,
   "id": "6777b9aa-c78d-4035-bd04-5edb93e13b47",
   "metadata": {},
   "outputs": [
    {
     "data": {
      "text/plain": [
       "pvor_700            7\n",
       "pwat_0_200          7\n",
       "wind10              7\n",
       "sdir                7\n",
       "shear_1000_300      7\n",
       "shear_1000_850      7\n",
       "pvor_850            7\n",
       "outpvor_1000        6\n",
       "shear_1000_500      5\n",
       "pvor_400            5\n",
       "shear_850_300       5\n",
       "shear_1000_850.1    5\n",
       "pwat_200_400        4\n",
       "tanom250            4\n",
       "eqt850              4\n",
       "pwat_600_800        4\n",
       "pwat_800_1000       4\n",
       "gpot_1000           4\n",
       "outpvor_100         3\n",
       "clat                3\n",
       "vort_1000           3\n",
       "pwat_400_600        2\n",
       "spdx                2\n",
       "tanom300            2\n",
       "tanom500            2\n",
       "temp_1000           2\n",
       "outpvor_150         2\n",
       "outeqt850           2\n",
       "outtemp_850         2\n",
       "shear_1000_300.1    2\n",
       "shear_1000_700      2\n",
       "POT2                2\n",
       "outrhum_400         1\n",
       "outpvor_500         1\n",
       "eqt300              1\n",
       "vort_500            1\n",
       "outeqt700           1\n",
       "out_t200            1\n",
       "temp_400            1\n",
       "POT                 1\n",
       "dtype: int64"
      ]
     },
     "execution_count": 38,
     "metadata": {},
     "output_type": "execute_result"
    }
   ],
   "source": [
    "count_xailists.sort_values(ascending=False)[:40] #4"
   ]
  },
  {
   "cell_type": "markdown",
   "id": "0621f536-6342-4747-b99b-223d072b0645",
   "metadata": {},
   "source": [
    "## With Correlation"
   ]
  },
  {
   "cell_type": "code",
   "execution_count": 39,
   "id": "587adc2a-dc24-4c81-bb37-3f9042ae7773",
   "metadata": {},
   "outputs": [
    {
     "data": {
      "application/vnd.jupyter.widget-view+json": {
       "model_id": "942e57a7f93b4f11878a28263488ba92",
       "version_major": 2,
       "version_minor": 0
      },
      "text/plain": [
       "  0%|          | 0/7 [00:00<?, ?it/s]"
      ]
     },
     "metadata": {},
     "output_type": "display_data"
    }
   ],
   "source": [
    "score_correlation = []\n",
    "for seed in tqdm(seeds):\n",
    "    correlation_results = performance_scores.scores_seeds(seed=seed,target=target,lag=int(config_set['target_lag']),exp='SHIPSERA5_noassum').run_score_corrFS(shapez=np.asarray(miss.flatten(shapez_causalFS)).max())\n",
    "    score_correlation.append(correlation_results)\n",
    "    del correlation_results\n",
    "    gc.collect()"
   ]
  },
  {
   "cell_type": "code",
   "execution_count": 40,
   "id": "418823ec-6857-4c3a-8cdb-9fb4f60445d9",
   "metadata": {},
   "outputs": [],
   "source": [
    "r2_train_corrFS, r2_valid_corrFS, r2_test_corrFS = [],[],[]\n",
    "for i in range(len(score_correlation)):\n",
    "    tempscore = score_correlation[i]['scoreboard']\n",
    "    trains,valids,tests=[],[],[]\n",
    "    for j in range(len(tempscore)):\n",
    "        trains.append(tempscore[j]['train']['r2'])\n",
    "        valids.append(tempscore[j]['valid']['r2'])\n",
    "        tests.append(tempscore[j]['test']['r2'])\n",
    "    r2_train_corrFS.append(trains)\n",
    "    r2_valid_corrFS.append(valids)\n",
    "    r2_test_corrFS.append(tests)"
   ]
  },
  {
   "cell_type": "code",
   "execution_count": 41,
   "id": "26e72d73-835b-4cff-b556-c2de3db6da45",
   "metadata": {},
   "outputs": [],
   "source": [
    "def get_best_fold_and_alpha(score_correlation, alpha_levels):\n",
    "    best_val_r2 = -np.inf\n",
    "    best_fold_idx = None\n",
    "    best_alpha_idx = None\n",
    "\n",
    "    for fold_idx, fold_result in enumerate(score_correlation):\n",
    "        scoreboard_list = fold_result[\"scoreboard\"]  # list over alphas\n",
    "        for alpha_idx, result in enumerate(scoreboard_list):\n",
    "            val_r2 = result[\"valid\"][\"r2\"]\n",
    "            if val_r2 > best_val_r2:\n",
    "                best_val_r2 = val_r2\n",
    "                best_fold_idx = fold_idx\n",
    "                best_alpha_idx = alpha_idx\n",
    "\n",
    "    best_alpha_value = alpha_levels[best_alpha_idx % len(alpha_levels)]\n",
    "    print(f\"Best Fold Index     : {best_fold_idx}\")\n",
    "    print(f\"Best Alpha Index    : {best_alpha_idx}\")\n",
    "    print(f\"Best Alpha Value    : {best_alpha_value}\")\n",
    "    print(f\"Best Validation R²  : {best_val_r2:.4f}\")\n",
    "\n",
    "    return best_fold_idx, best_alpha_idx, best_alpha_value\n",
    "\n"
   ]
  },
  {
   "cell_type": "code",
   "execution_count": 42,
   "id": "bac70be6-a0b7-4174-b3d7-88b7988d7a60",
   "metadata": {},
   "outputs": [
    {
     "name": "stdout",
     "output_type": "stream",
     "text": [
      "Best Fold Index     : 0\n",
      "Best Alpha Index    : 27\n",
      "Best Alpha Value    : 0.0015\n",
      "Best Validation R²  : 0.2024\n"
     ]
    }
   ],
   "source": [
    "best_fold, best_alpha_idx, best_alpha_val = get_best_fold_and_alpha(score_correlation, alpha_levels)"
   ]
  },
  {
   "cell_type": "code",
   "execution_count": 43,
   "id": "94cdde55-bf70-4dc4-a6c3-4474b48ee9dd",
   "metadata": {},
   "outputs": [],
   "source": [
    "corr_varlists = find_best_var_per_seed_corrXAI(r2_valid_corrFS,score_correlation)\n",
    "count_corrlists = count_all_varlists(corr_varlists)"
   ]
  },
  {
   "cell_type": "code",
   "execution_count": 44,
   "id": "22ef2fc8-772d-4a03-9b57-a8519d2e4d1a",
   "metadata": {},
   "outputs": [
    {
     "data": {
      "text/plain": [
       "pvor_850            7\n",
       "wind10              7\n",
       "pmin                7\n",
       "shear_1000_850      7\n",
       "shear_850_250       7\n",
       "pvor_1000           7\n",
       "shear_850_300       7\n",
       "gpot_850            7\n",
       "pvor_700            7\n",
       "gpot_800            7\n",
       "div_1000            6\n",
       "vort_700            6\n",
       "shear_1000_700      6\n",
       "shear_1000_500      6\n",
       "tanom1000           6\n",
       "gpot_1000           6\n",
       "POT2                5\n",
       "shear_1000_850.1    5\n",
       "shear_1000_300      5\n",
       "gpot_700            5\n",
       "pvor_400            5\n",
       "pvor_500            4\n",
       "tanom850            4\n",
       "tanom250            4\n",
       "tanom700            3\n",
       "LHRD                3\n",
       "shear_850_300.1     3\n",
       "shear_1000_200      3\n",
       "vort_1000           2\n",
       "shear_850_250.1     2\n",
       "vort_500            2\n",
       "shear_1000_200.1    1\n",
       "clat                1\n",
       "shear_1000_500.1    1\n",
       "shear_1000_300.1    1\n",
       "tanom500            1\n",
       "dtype: int64"
      ]
     },
     "execution_count": 44,
     "metadata": {},
     "output_type": "execute_result"
    }
   ],
   "source": [
    "count_corrlists.sort_values(ascending=False)[:50] #4"
   ]
  }
 ],
 "metadata": {
  "kernelspec": {
   "display_name": "Python 3 (ipykernel)",
   "language": "python",
   "name": "python3"
  },
  "language_info": {
   "codemirror_mode": {
    "name": "ipython",
    "version": 3
   },
   "file_extension": ".py",
   "mimetype": "text/x-python",
   "name": "python",
   "nbconvert_exporter": "python",
   "pygments_lexer": "ipython3",
   "version": "3.9.15"
  }
 },
 "nbformat": 4,
 "nbformat_minor": 5
}
